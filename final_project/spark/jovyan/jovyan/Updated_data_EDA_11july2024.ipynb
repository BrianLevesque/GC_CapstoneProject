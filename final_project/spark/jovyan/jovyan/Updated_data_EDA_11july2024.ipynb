{
 "cells": [
  {
   "cell_type": "code",
   "execution_count": 1,
   "metadata": {},
   "outputs": [],
   "source": [
    "import pandas as pd\n",
    "import numpy as np\n",
    "import warnings \n",
    "warnings.filterwarnings('ignore') "
   ]
  },
  {
   "cell_type": "markdown",
   "metadata": {},
   "source": [
    "## 1. Ingest and Access Data \n",
    "\n",
    "reading csv file into pandas dataframe\n",
    "\n",
    "Note: Due to technical issues in AWS, we had to abort the database instance and hence backed up the data in csv files."
   ]
  },
  {
   "cell_type": "code",
   "execution_count": 2,
   "metadata": {},
   "outputs": [],
   "source": [
    "df = pd.read_csv(r'./Data/darwin_backup2.csv')"
   ]
  },
  {
   "cell_type": "markdown",
   "metadata": {},
   "source": [
    "#### Data Overview"
   ]
  },
  {
   "cell_type": "code",
   "execution_count": 3,
   "metadata": {},
   "outputs": [
    {
     "data": {
      "text/html": [
       "<div>\n",
       "<style scoped>\n",
       "    .dataframe tbody tr th:only-of-type {\n",
       "        vertical-align: middle;\n",
       "    }\n",
       "\n",
       "    .dataframe tbody tr th {\n",
       "        vertical-align: top;\n",
       "    }\n",
       "\n",
       "    .dataframe thead th {\n",
       "        text-align: right;\n",
       "    }\n",
       "</style>\n",
       "<table border=\"1\" class=\"dataframe\">\n",
       "  <thead>\n",
       "    <tr style=\"text-align: right;\">\n",
       "      <th></th>\n",
       "      <th>route_id</th>\n",
       "      <th>unique_id</th>\n",
       "      <th>service_start_date</th>\n",
       "      <th>update_origin</th>\n",
       "      <th>train_platform</th>\n",
       "      <th>working_time_pass</th>\n",
       "      <th>working_time_arrival</th>\n",
       "      <th>working_time_departure</th>\n",
       "      <th>planned_time_arrival</th>\n",
       "      <th>planned_time_departure</th>\n",
       "      <th>...</th>\n",
       "      <th>platform</th>\n",
       "      <th>train_length</th>\n",
       "      <th>estimated_time</th>\n",
       "      <th>source</th>\n",
       "      <th>actual_time</th>\n",
       "      <th>actual_time_class</th>\n",
       "      <th>is_delayed_arrival</th>\n",
       "      <th>is_delayed_departure</th>\n",
       "      <th>source_instance</th>\n",
       "      <th>estimated_time_minutes</th>\n",
       "    </tr>\n",
       "  </thead>\n",
       "  <tbody>\n",
       "    <tr>\n",
       "      <th>0</th>\n",
       "      <td>202407038081744</td>\n",
       "      <td>P81744</td>\n",
       "      <td>2024-07-03</td>\n",
       "      <td>TD</td>\n",
       "      <td>CCRT</td>\n",
       "      <td>NaN</td>\n",
       "      <td>23:17:00</td>\n",
       "      <td>23:17:30</td>\n",
       "      <td>23:17:00</td>\n",
       "      <td>23:17:00</td>\n",
       "      <td>...</td>\n",
       "      <td>2</td>\n",
       "      <td>NaN</td>\n",
       "      <td>NaN</td>\n",
       "      <td>NaN</td>\n",
       "      <td>NaN</td>\n",
       "      <td>NaN</td>\n",
       "      <td>f</td>\n",
       "      <td>f</td>\n",
       "      <td>NaN</td>\n",
       "      <td>NaN</td>\n",
       "    </tr>\n",
       "    <tr>\n",
       "      <th>1</th>\n",
       "      <td>202407038097422</td>\n",
       "      <td>P97422</td>\n",
       "      <td>2024-07-03</td>\n",
       "      <td>TD</td>\n",
       "      <td>ALBNYPK</td>\n",
       "      <td>NaN</td>\n",
       "      <td>23:14:00</td>\n",
       "      <td>23:14:30</td>\n",
       "      <td>23:14:00</td>\n",
       "      <td>23:14:00</td>\n",
       "      <td>...</td>\n",
       "      <td>2</td>\n",
       "      <td>8.0</td>\n",
       "      <td>NaN</td>\n",
       "      <td>NaN</td>\n",
       "      <td>NaN</td>\n",
       "      <td>NaN</td>\n",
       "      <td>f</td>\n",
       "      <td>f</td>\n",
       "      <td>NaN</td>\n",
       "      <td>NaN</td>\n",
       "    </tr>\n",
       "    <tr>\n",
       "      <th>2</th>\n",
       "      <td>202407038097422</td>\n",
       "      <td>P97422</td>\n",
       "      <td>2024-07-03</td>\n",
       "      <td>TD</td>\n",
       "      <td>BEXLEY</td>\n",
       "      <td>NaN</td>\n",
       "      <td>23:16:30</td>\n",
       "      <td>23:17:30</td>\n",
       "      <td>23:17:00</td>\n",
       "      <td>23:17:00</td>\n",
       "      <td>...</td>\n",
       "      <td>2</td>\n",
       "      <td>8.0</td>\n",
       "      <td>NaN</td>\n",
       "      <td>NaN</td>\n",
       "      <td>NaN</td>\n",
       "      <td>NaN</td>\n",
       "      <td>f</td>\n",
       "      <td>f</td>\n",
       "      <td>NaN</td>\n",
       "      <td>NaN</td>\n",
       "    </tr>\n",
       "    <tr>\n",
       "      <th>3</th>\n",
       "      <td>202407037143658</td>\n",
       "      <td>G43658</td>\n",
       "      <td>2024-07-03</td>\n",
       "      <td>TD</td>\n",
       "      <td>SHAL341</td>\n",
       "      <td>NaN</td>\n",
       "      <td>23:29:00</td>\n",
       "      <td>23:32:00</td>\n",
       "      <td>NaN</td>\n",
       "      <td>NaN</td>\n",
       "      <td>...</td>\n",
       "      <td>NaN</td>\n",
       "      <td>NaN</td>\n",
       "      <td>NaN</td>\n",
       "      <td>NaN</td>\n",
       "      <td>NaN</td>\n",
       "      <td>NaN</td>\n",
       "      <td>f</td>\n",
       "      <td>f</td>\n",
       "      <td>NaN</td>\n",
       "      <td>NaN</td>\n",
       "    </tr>\n",
       "    <tr>\n",
       "      <th>4</th>\n",
       "      <td>202407037143658</td>\n",
       "      <td>G43658</td>\n",
       "      <td>2024-07-03</td>\n",
       "      <td>TD</td>\n",
       "      <td>SHALFD</td>\n",
       "      <td>NaN</td>\n",
       "      <td>23:34:00</td>\n",
       "      <td>23:35:30</td>\n",
       "      <td>NaN</td>\n",
       "      <td>NaN</td>\n",
       "      <td>...</td>\n",
       "      <td>NaN</td>\n",
       "      <td>NaN</td>\n",
       "      <td>NaN</td>\n",
       "      <td>NaN</td>\n",
       "      <td>NaN</td>\n",
       "      <td>NaN</td>\n",
       "      <td>f</td>\n",
       "      <td>f</td>\n",
       "      <td>NaN</td>\n",
       "      <td>NaN</td>\n",
       "    </tr>\n",
       "  </tbody>\n",
       "</table>\n",
       "<p>5 rows × 22 columns</p>\n",
       "</div>"
      ],
      "text/plain": [
       "          route_id unique_id service_start_date update_origin train_platform  \\\n",
       "0  202407038081744    P81744         2024-07-03            TD           CCRT   \n",
       "1  202407038097422    P97422         2024-07-03            TD        ALBNYPK   \n",
       "2  202407038097422    P97422         2024-07-03            TD         BEXLEY   \n",
       "3  202407037143658    G43658         2024-07-03            TD        SHAL341   \n",
       "4  202407037143658    G43658         2024-07-03            TD         SHALFD   \n",
       "\n",
       "   working_time_pass working_time_arrival working_time_departure  \\\n",
       "0                NaN             23:17:00               23:17:30   \n",
       "1                NaN             23:14:00               23:14:30   \n",
       "2                NaN             23:16:30               23:17:30   \n",
       "3                NaN             23:29:00               23:32:00   \n",
       "4                NaN             23:34:00               23:35:30   \n",
       "\n",
       "  planned_time_arrival planned_time_departure  ... platform train_length  \\\n",
       "0             23:17:00               23:17:00  ...        2          NaN   \n",
       "1             23:14:00               23:14:00  ...        2          8.0   \n",
       "2             23:17:00               23:17:00  ...        2          8.0   \n",
       "3                  NaN                    NaN  ...      NaN          NaN   \n",
       "4                  NaN                    NaN  ...      NaN          NaN   \n",
       "\n",
       "  estimated_time  source  actual_time  actual_time_class  is_delayed_arrival  \\\n",
       "0            NaN     NaN          NaN                NaN                   f   \n",
       "1            NaN     NaN          NaN                NaN                   f   \n",
       "2            NaN     NaN          NaN                NaN                   f   \n",
       "3            NaN     NaN          NaN                NaN                   f   \n",
       "4            NaN     NaN          NaN                NaN                   f   \n",
       "\n",
       "   is_delayed_departure source_instance estimated_time_minutes  \n",
       "0                     f             NaN                    NaN  \n",
       "1                     f             NaN                    NaN  \n",
       "2                     f             NaN                    NaN  \n",
       "3                     f             NaN                    NaN  \n",
       "4                     f             NaN                    NaN  \n",
       "\n",
       "[5 rows x 22 columns]"
      ]
     },
     "execution_count": 3,
     "metadata": {},
     "output_type": "execute_result"
    }
   ],
   "source": [
    "df.head()"
   ]
  },
  {
   "cell_type": "code",
   "execution_count": 4,
   "metadata": {},
   "outputs": [
    {
     "name": "stdout",
     "output_type": "stream",
     "text": [
      "<class 'pandas.core.frame.DataFrame'>\n",
      "RangeIndex: 415067 entries, 0 to 415066\n",
      "Data columns (total 22 columns):\n",
      " #   Column                  Non-Null Count   Dtype  \n",
      "---  ------                  --------------   -----  \n",
      " 0   route_id                415067 non-null  int64  \n",
      " 1   unique_id               415067 non-null  object \n",
      " 2   service_start_date      415067 non-null  object \n",
      " 3   update_origin           404173 non-null  object \n",
      " 4   train_platform          415067 non-null  object \n",
      " 5   working_time_pass       0 non-null       float64\n",
      " 6   working_time_arrival    415067 non-null  object \n",
      " 7   working_time_departure  415067 non-null  object \n",
      " 8   planned_time_arrival    375170 non-null  object \n",
      " 9   planned_time_departure  373563 non-null  object \n",
      " 10  actual_arrival_time     346352 non-null  object \n",
      " 11  actual_departure_time   384274 non-null  object \n",
      " 12  platform                388485 non-null  object \n",
      " 13  train_length            147550 non-null  float64\n",
      " 14  estimated_time          0 non-null       float64\n",
      " 15  source                  0 non-null       float64\n",
      " 16  actual_time             0 non-null       float64\n",
      " 17  actual_time_class       0 non-null       float64\n",
      " 18  is_delayed_arrival      415067 non-null  object \n",
      " 19  is_delayed_departure    415067 non-null  object \n",
      " 20  source_instance         0 non-null       float64\n",
      " 21  estimated_time_minutes  0 non-null       float64\n",
      "dtypes: float64(8), int64(1), object(13)\n",
      "memory usage: 69.7+ MB\n"
     ]
    }
   ],
   "source": [
    "df.info()"
   ]
  },
  {
   "cell_type": "markdown",
   "metadata": {},
   "source": [
    "## 2. Data Cleaning and Pre-processing\n",
    "\n",
    "#### Dropping unnecessary columns"
   ]
  },
  {
   "cell_type": "code",
   "execution_count": 5,
   "metadata": {},
   "outputs": [
    {
     "name": "stdout",
     "output_type": "stream",
     "text": [
      "<class 'pandas.core.frame.DataFrame'>\n",
      "RangeIndex: 415067 entries, 0 to 415066\n",
      "Data columns (total 13 columns):\n",
      " #   Column                  Non-Null Count   Dtype  \n",
      "---  ------                  --------------   -----  \n",
      " 0   route_id                415067 non-null  int64  \n",
      " 1   unique_id               415067 non-null  object \n",
      " 2   service_start_date      415067 non-null  object \n",
      " 3   update_origin           404173 non-null  object \n",
      " 4   train_platform          415067 non-null  object \n",
      " 5   planned_time_arrival    375170 non-null  object \n",
      " 6   planned_time_departure  373563 non-null  object \n",
      " 7   actual_arrival_time     346352 non-null  object \n",
      " 8   actual_departure_time   384274 non-null  object \n",
      " 9   platform                388485 non-null  object \n",
      " 10  train_length            147550 non-null  float64\n",
      " 11  is_delayed_arrival      415067 non-null  object \n",
      " 12  is_delayed_departure    415067 non-null  object \n",
      "dtypes: float64(1), int64(1), object(11)\n",
      "memory usage: 41.2+ MB\n"
     ]
    }
   ],
   "source": [
    "df = df.drop(['working_time_pass','estimated_time','source','actual_time','actual_time_class',\n",
    "              'source_instance','estimated_time_minutes','working_time_arrival','working_time_departure'], axis=1)\n",
    "df.info()"
   ]
  },
  {
   "cell_type": "markdown",
   "metadata": {},
   "source": [
    "#### Checking for duplicates and dropping them as necessary"
   ]
  },
  {
   "cell_type": "code",
   "execution_count": 6,
   "metadata": {},
   "outputs": [
    {
     "data": {
      "text/plain": [
       "16889"
      ]
     },
     "execution_count": 6,
     "metadata": {},
     "output_type": "execute_result"
    }
   ],
   "source": [
    "df.duplicated().sum()"
   ]
  },
  {
   "cell_type": "code",
   "execution_count": 7,
   "metadata": {},
   "outputs": [
    {
     "data": {
      "text/plain": [
       "0"
      ]
     },
     "execution_count": 7,
     "metadata": {},
     "output_type": "execute_result"
    }
   ],
   "source": [
    "df = df.drop_duplicates()\n",
    "df.duplicated().sum()"
   ]
  },
  {
   "cell_type": "markdown",
   "metadata": {},
   "source": [
    "#### Reading in a rail reference file to extract the station names for every route"
   ]
  },
  {
   "cell_type": "code",
   "execution_count": 8,
   "metadata": {},
   "outputs": [
    {
     "data": {
      "text/html": [
       "<div>\n",
       "<style scoped>\n",
       "    .dataframe tbody tr th:only-of-type {\n",
       "        vertical-align: middle;\n",
       "    }\n",
       "\n",
       "    .dataframe tbody tr th {\n",
       "        vertical-align: top;\n",
       "    }\n",
       "\n",
       "    .dataframe thead th {\n",
       "        text-align: right;\n",
       "    }\n",
       "</style>\n",
       "<table border=\"1\" class=\"dataframe\">\n",
       "  <thead>\n",
       "    <tr style=\"text-align: right;\">\n",
       "      <th></th>\n",
       "      <th>AtcoCode</th>\n",
       "      <th>TiplocCode</th>\n",
       "      <th>CrsCode</th>\n",
       "      <th>StationName</th>\n",
       "      <th>StationNameLang</th>\n",
       "      <th>GridType</th>\n",
       "      <th>Easting</th>\n",
       "      <th>Northing</th>\n",
       "      <th>CreationDateTime</th>\n",
       "      <th>ModificationDateTime</th>\n",
       "      <th>RevisionNumber</th>\n",
       "      <th>Modification</th>\n",
       "    </tr>\n",
       "  </thead>\n",
       "  <tbody>\n",
       "    <tr>\n",
       "      <th>0</th>\n",
       "      <td>9100PENZNCE</td>\n",
       "      <td>PENZNCE</td>\n",
       "      <td>PNZ</td>\n",
       "      <td>Penzance Rail Station</td>\n",
       "      <td>NaN</td>\n",
       "      <td>U</td>\n",
       "      <td>147588</td>\n",
       "      <td>30599</td>\n",
       "      <td>2003-11-04T00:00:00</td>\n",
       "      <td>2011-09-30T14:47:28</td>\n",
       "      <td>2</td>\n",
       "      <td>rev</td>\n",
       "    </tr>\n",
       "    <tr>\n",
       "      <th>1</th>\n",
       "      <td>9100STIVES</td>\n",
       "      <td>STIVES</td>\n",
       "      <td>SIV</td>\n",
       "      <td>St Ives (Cornwall) Rail Station</td>\n",
       "      <td>NaN</td>\n",
       "      <td>U</td>\n",
       "      <td>151947</td>\n",
       "      <td>40127</td>\n",
       "      <td>2005-04-04T00:00:00</td>\n",
       "      <td>2011-09-30T14:47:28</td>\n",
       "      <td>4</td>\n",
       "      <td>rev</td>\n",
       "    </tr>\n",
       "    <tr>\n",
       "      <th>2</th>\n",
       "      <td>9100CARBISB</td>\n",
       "      <td>CARBISB</td>\n",
       "      <td>CBB</td>\n",
       "      <td>Carbis Bay Rail Station</td>\n",
       "      <td>NaN</td>\n",
       "      <td>U</td>\n",
       "      <td>152930</td>\n",
       "      <td>38745</td>\n",
       "      <td>2003-11-04T00:00:00</td>\n",
       "      <td>2011-09-30T14:47:28</td>\n",
       "      <td>5</td>\n",
       "      <td>rev</td>\n",
       "    </tr>\n",
       "    <tr>\n",
       "      <th>3</th>\n",
       "      <td>9100STERTH</td>\n",
       "      <td>STERTH</td>\n",
       "      <td>SER</td>\n",
       "      <td>St Erth Rail Station</td>\n",
       "      <td>NaN</td>\n",
       "      <td>U</td>\n",
       "      <td>154150</td>\n",
       "      <td>35730</td>\n",
       "      <td>2003-11-04T00:00:00</td>\n",
       "      <td>2007-02-13T17:06:21</td>\n",
       "      <td>3</td>\n",
       "      <td>rev</td>\n",
       "    </tr>\n",
       "    <tr>\n",
       "      <th>4</th>\n",
       "      <td>9100LELANTS</td>\n",
       "      <td>LELANTS</td>\n",
       "      <td>LTS</td>\n",
       "      <td>Lelant Saltings Rail Station</td>\n",
       "      <td>NaN</td>\n",
       "      <td>U</td>\n",
       "      <td>154430</td>\n",
       "      <td>36640</td>\n",
       "      <td>2003-11-04T00:00:00</td>\n",
       "      <td>2011-09-30T14:47:28</td>\n",
       "      <td>2</td>\n",
       "      <td>rev</td>\n",
       "    </tr>\n",
       "  </tbody>\n",
       "</table>\n",
       "</div>"
      ],
      "text/plain": [
       "      AtcoCode TiplocCode CrsCode                      StationName  \\\n",
       "0  9100PENZNCE    PENZNCE     PNZ            Penzance Rail Station   \n",
       "1   9100STIVES     STIVES     SIV  St Ives (Cornwall) Rail Station   \n",
       "2  9100CARBISB    CARBISB     CBB          Carbis Bay Rail Station   \n",
       "3   9100STERTH     STERTH     SER             St Erth Rail Station   \n",
       "4  9100LELANTS    LELANTS     LTS     Lelant Saltings Rail Station   \n",
       "\n",
       "   StationNameLang GridType  Easting  Northing     CreationDateTime  \\\n",
       "0              NaN        U   147588     30599  2003-11-04T00:00:00   \n",
       "1              NaN        U   151947     40127  2005-04-04T00:00:00   \n",
       "2              NaN        U   152930     38745  2003-11-04T00:00:00   \n",
       "3              NaN        U   154150     35730  2003-11-04T00:00:00   \n",
       "4              NaN        U   154430     36640  2003-11-04T00:00:00   \n",
       "\n",
       "  ModificationDateTime  RevisionNumber Modification  \n",
       "0  2011-09-30T14:47:28               2          rev  \n",
       "1  2011-09-30T14:47:28               4          rev  \n",
       "2  2011-09-30T14:47:28               5          rev  \n",
       "3  2007-02-13T17:06:21               3          rev  \n",
       "4  2011-09-30T14:47:28               2          rev  "
      ]
     },
     "execution_count": 8,
     "metadata": {},
     "output_type": "execute_result"
    }
   ],
   "source": [
    "df2 = pd.read_csv(\"./Data/RailReferences.csv\")\n",
    "df2.head()"
   ]
  },
  {
   "cell_type": "markdown",
   "metadata": {},
   "source": [
    "#### Dropping Unnecessary columns"
   ]
  },
  {
   "cell_type": "code",
   "execution_count": 9,
   "metadata": {},
   "outputs": [
    {
     "data": {
      "text/html": [
       "<div>\n",
       "<style scoped>\n",
       "    .dataframe tbody tr th:only-of-type {\n",
       "        vertical-align: middle;\n",
       "    }\n",
       "\n",
       "    .dataframe tbody tr th {\n",
       "        vertical-align: top;\n",
       "    }\n",
       "\n",
       "    .dataframe thead th {\n",
       "        text-align: right;\n",
       "    }\n",
       "</style>\n",
       "<table border=\"1\" class=\"dataframe\">\n",
       "  <thead>\n",
       "    <tr style=\"text-align: right;\">\n",
       "      <th></th>\n",
       "      <th>TiplocCode</th>\n",
       "      <th>StationName</th>\n",
       "      <th>Easting</th>\n",
       "      <th>Northing</th>\n",
       "    </tr>\n",
       "  </thead>\n",
       "  <tbody>\n",
       "    <tr>\n",
       "      <th>0</th>\n",
       "      <td>PENZNCE</td>\n",
       "      <td>Penzance Rail Station</td>\n",
       "      <td>147588</td>\n",
       "      <td>30599</td>\n",
       "    </tr>\n",
       "    <tr>\n",
       "      <th>1</th>\n",
       "      <td>STIVES</td>\n",
       "      <td>St Ives (Cornwall) Rail Station</td>\n",
       "      <td>151947</td>\n",
       "      <td>40127</td>\n",
       "    </tr>\n",
       "    <tr>\n",
       "      <th>2</th>\n",
       "      <td>CARBISB</td>\n",
       "      <td>Carbis Bay Rail Station</td>\n",
       "      <td>152930</td>\n",
       "      <td>38745</td>\n",
       "    </tr>\n",
       "    <tr>\n",
       "      <th>3</th>\n",
       "      <td>STERTH</td>\n",
       "      <td>St Erth Rail Station</td>\n",
       "      <td>154150</td>\n",
       "      <td>35730</td>\n",
       "    </tr>\n",
       "    <tr>\n",
       "      <th>4</th>\n",
       "      <td>LELANTS</td>\n",
       "      <td>Lelant Saltings Rail Station</td>\n",
       "      <td>154430</td>\n",
       "      <td>36640</td>\n",
       "    </tr>\n",
       "    <tr>\n",
       "      <th>...</th>\n",
       "      <td>...</td>\n",
       "      <td>...</td>\n",
       "      <td>...</td>\n",
       "      <td>...</td>\n",
       "    </tr>\n",
       "    <tr>\n",
       "      <th>2623</th>\n",
       "      <td>SMRLYTN</td>\n",
       "      <td>Somerleyton Rail Station</td>\n",
       "      <td>647930</td>\n",
       "      <td>296530</td>\n",
       "    </tr>\n",
       "    <tr>\n",
       "      <th>2624</th>\n",
       "      <td>OULTNBS</td>\n",
       "      <td>Oulton Broad South Rail Station</td>\n",
       "      <td>651920</td>\n",
       "      <td>292205</td>\n",
       "    </tr>\n",
       "    <tr>\n",
       "      <th>2625</th>\n",
       "      <td>YARMTH</td>\n",
       "      <td>Great Yarmouth Rail Station</td>\n",
       "      <td>652000</td>\n",
       "      <td>308100</td>\n",
       "    </tr>\n",
       "    <tr>\n",
       "      <th>2626</th>\n",
       "      <td>OULTNBN</td>\n",
       "      <td>Oulton Broad North Rail Station</td>\n",
       "      <td>652420</td>\n",
       "      <td>293140</td>\n",
       "    </tr>\n",
       "    <tr>\n",
       "      <th>2627</th>\n",
       "      <td>LOWSTFT</td>\n",
       "      <td>Lowestoft Rail Station</td>\n",
       "      <td>654747</td>\n",
       "      <td>292890</td>\n",
       "    </tr>\n",
       "  </tbody>\n",
       "</table>\n",
       "<p>2628 rows × 4 columns</p>\n",
       "</div>"
      ],
      "text/plain": [
       "     TiplocCode                      StationName  Easting  Northing\n",
       "0       PENZNCE            Penzance Rail Station   147588     30599\n",
       "1        STIVES  St Ives (Cornwall) Rail Station   151947     40127\n",
       "2       CARBISB          Carbis Bay Rail Station   152930     38745\n",
       "3        STERTH             St Erth Rail Station   154150     35730\n",
       "4       LELANTS     Lelant Saltings Rail Station   154430     36640\n",
       "...         ...                              ...      ...       ...\n",
       "2623    SMRLYTN         Somerleyton Rail Station   647930    296530\n",
       "2624    OULTNBS  Oulton Broad South Rail Station   651920    292205\n",
       "2625     YARMTH      Great Yarmouth Rail Station   652000    308100\n",
       "2626    OULTNBN  Oulton Broad North Rail Station   652420    293140\n",
       "2627    LOWSTFT           Lowestoft Rail Station   654747    292890\n",
       "\n",
       "[2628 rows x 4 columns]"
      ]
     },
     "execution_count": 9,
     "metadata": {},
     "output_type": "execute_result"
    }
   ],
   "source": [
    "df2 = df2.drop([\"StationNameLang\",\"GridType\",\"AtcoCode\",\"Modification\",\"CreationDateTime\",\"ModificationDateTime\",\"RevisionNumber\",\"CrsCode\"],axis=1)\n",
    "df2"
   ]
  },
  {
   "cell_type": "markdown",
   "metadata": {},
   "source": [
    "### Merging the rail reference dataframe and main dataframes "
   ]
  },
  {
   "cell_type": "code",
   "execution_count": 10,
   "metadata": {},
   "outputs": [],
   "source": [
    "merged_df = pd.merge(df, df2, left_on='train_platform', right_on='TiplocCode', how='left')"
   ]
  },
  {
   "cell_type": "markdown",
   "metadata": {},
   "source": [
    "#### Dropping the tiplocCode column "
   ]
  },
  {
   "cell_type": "code",
   "execution_count": 11,
   "metadata": {},
   "outputs": [],
   "source": [
    "df = merged_df.drop([\"TiplocCode\"],axis = 1)"
   ]
  },
  {
   "cell_type": "code",
   "execution_count": 12,
   "metadata": {},
   "outputs": [
    {
     "data": {
      "text/html": [
       "<div>\n",
       "<style scoped>\n",
       "    .dataframe tbody tr th:only-of-type {\n",
       "        vertical-align: middle;\n",
       "    }\n",
       "\n",
       "    .dataframe tbody tr th {\n",
       "        vertical-align: top;\n",
       "    }\n",
       "\n",
       "    .dataframe thead th {\n",
       "        text-align: right;\n",
       "    }\n",
       "</style>\n",
       "<table border=\"1\" class=\"dataframe\">\n",
       "  <thead>\n",
       "    <tr style=\"text-align: right;\">\n",
       "      <th></th>\n",
       "      <th>route_id</th>\n",
       "      <th>unique_id</th>\n",
       "      <th>service_start_date</th>\n",
       "      <th>update_origin</th>\n",
       "      <th>train_platform</th>\n",
       "      <th>planned_time_arrival</th>\n",
       "      <th>planned_time_departure</th>\n",
       "      <th>actual_arrival_time</th>\n",
       "      <th>actual_departure_time</th>\n",
       "      <th>platform</th>\n",
       "      <th>train_length</th>\n",
       "      <th>is_delayed_arrival</th>\n",
       "      <th>is_delayed_departure</th>\n",
       "      <th>StationName</th>\n",
       "      <th>Easting</th>\n",
       "      <th>Northing</th>\n",
       "    </tr>\n",
       "  </thead>\n",
       "  <tbody>\n",
       "    <tr>\n",
       "      <th>0</th>\n",
       "      <td>202407038081744</td>\n",
       "      <td>P81744</td>\n",
       "      <td>2024-07-03</td>\n",
       "      <td>TD</td>\n",
       "      <td>CCRT</td>\n",
       "      <td>23:17:00</td>\n",
       "      <td>23:17:00</td>\n",
       "      <td>NaN</td>\n",
       "      <td>23:17:00</td>\n",
       "      <td>2</td>\n",
       "      <td>NaN</td>\n",
       "      <td>f</td>\n",
       "      <td>f</td>\n",
       "      <td>Cathcart Rail Station</td>\n",
       "      <td>258460.0</td>\n",
       "      <td>660580.0</td>\n",
       "    </tr>\n",
       "    <tr>\n",
       "      <th>1</th>\n",
       "      <td>202407038097422</td>\n",
       "      <td>P97422</td>\n",
       "      <td>2024-07-03</td>\n",
       "      <td>TD</td>\n",
       "      <td>ALBNYPK</td>\n",
       "      <td>23:14:00</td>\n",
       "      <td>23:14:00</td>\n",
       "      <td>NaN</td>\n",
       "      <td>NaN</td>\n",
       "      <td>2</td>\n",
       "      <td>8.0</td>\n",
       "      <td>f</td>\n",
       "      <td>f</td>\n",
       "      <td>Albany Park Rail Station</td>\n",
       "      <td>547855.0</td>\n",
       "      <td>172860.0</td>\n",
       "    </tr>\n",
       "    <tr>\n",
       "      <th>2</th>\n",
       "      <td>202407038097422</td>\n",
       "      <td>P97422</td>\n",
       "      <td>2024-07-03</td>\n",
       "      <td>TD</td>\n",
       "      <td>BEXLEY</td>\n",
       "      <td>23:17:00</td>\n",
       "      <td>23:17:00</td>\n",
       "      <td>23:18:00</td>\n",
       "      <td>23:19:00</td>\n",
       "      <td>2</td>\n",
       "      <td>8.0</td>\n",
       "      <td>f</td>\n",
       "      <td>f</td>\n",
       "      <td>Bexley Rail Station</td>\n",
       "      <td>549380.0</td>\n",
       "      <td>173435.0</td>\n",
       "    </tr>\n",
       "    <tr>\n",
       "      <th>3</th>\n",
       "      <td>202407037143658</td>\n",
       "      <td>G43658</td>\n",
       "      <td>2024-07-03</td>\n",
       "      <td>TD</td>\n",
       "      <td>SHAL341</td>\n",
       "      <td>NaN</td>\n",
       "      <td>NaN</td>\n",
       "      <td>23:30:00</td>\n",
       "      <td>23:31:00</td>\n",
       "      <td>NaN</td>\n",
       "      <td>NaN</td>\n",
       "      <td>f</td>\n",
       "      <td>f</td>\n",
       "      <td>NaN</td>\n",
       "      <td>NaN</td>\n",
       "      <td>NaN</td>\n",
       "    </tr>\n",
       "    <tr>\n",
       "      <th>4</th>\n",
       "      <td>202407037143658</td>\n",
       "      <td>G43658</td>\n",
       "      <td>2024-07-03</td>\n",
       "      <td>TD</td>\n",
       "      <td>SHALFD</td>\n",
       "      <td>NaN</td>\n",
       "      <td>NaN</td>\n",
       "      <td>23:33:00</td>\n",
       "      <td>23:34:00</td>\n",
       "      <td>NaN</td>\n",
       "      <td>NaN</td>\n",
       "      <td>f</td>\n",
       "      <td>f</td>\n",
       "      <td>Shalford (Surrey) Rail Station</td>\n",
       "      <td>500200.0</td>\n",
       "      <td>147100.0</td>\n",
       "    </tr>\n",
       "  </tbody>\n",
       "</table>\n",
       "</div>"
      ],
      "text/plain": [
       "          route_id unique_id service_start_date update_origin train_platform  \\\n",
       "0  202407038081744    P81744         2024-07-03            TD           CCRT   \n",
       "1  202407038097422    P97422         2024-07-03            TD        ALBNYPK   \n",
       "2  202407038097422    P97422         2024-07-03            TD         BEXLEY   \n",
       "3  202407037143658    G43658         2024-07-03            TD        SHAL341   \n",
       "4  202407037143658    G43658         2024-07-03            TD         SHALFD   \n",
       "\n",
       "  planned_time_arrival planned_time_departure actual_arrival_time  \\\n",
       "0             23:17:00               23:17:00                 NaN   \n",
       "1             23:14:00               23:14:00                 NaN   \n",
       "2             23:17:00               23:17:00            23:18:00   \n",
       "3                  NaN                    NaN            23:30:00   \n",
       "4                  NaN                    NaN            23:33:00   \n",
       "\n",
       "  actual_departure_time platform  train_length is_delayed_arrival  \\\n",
       "0              23:17:00        2           NaN                  f   \n",
       "1                   NaN        2           8.0                  f   \n",
       "2              23:19:00        2           8.0                  f   \n",
       "3              23:31:00      NaN           NaN                  f   \n",
       "4              23:34:00      NaN           NaN                  f   \n",
       "\n",
       "  is_delayed_departure                     StationName   Easting  Northing  \n",
       "0                    f           Cathcart Rail Station  258460.0  660580.0  \n",
       "1                    f        Albany Park Rail Station  547855.0  172860.0  \n",
       "2                    f             Bexley Rail Station  549380.0  173435.0  \n",
       "3                    f                             NaN       NaN       NaN  \n",
       "4                    f  Shalford (Surrey) Rail Station  500200.0  147100.0  "
      ]
     },
     "execution_count": 12,
     "metadata": {},
     "output_type": "execute_result"
    }
   ],
   "source": [
    "df.head()"
   ]
  },
  {
   "cell_type": "markdown",
   "metadata": {},
   "source": [
    "#### Checking for nulls"
   ]
  },
  {
   "cell_type": "code",
   "execution_count": 13,
   "metadata": {},
   "outputs": [
    {
     "data": {
      "text/plain": [
       "route_id                       0\n",
       "unique_id                      0\n",
       "service_start_date             0\n",
       "update_origin               9397\n",
       "train_platform                 0\n",
       "planned_time_arrival       39538\n",
       "planned_time_departure     40855\n",
       "actual_arrival_time        67315\n",
       "actual_departure_time      29395\n",
       "platform                   25850\n",
       "train_length              255400\n",
       "is_delayed_arrival             0\n",
       "is_delayed_departure           0\n",
       "StationName                30672\n",
       "Easting                    30672\n",
       "Northing                   30672\n",
       "dtype: int64"
      ]
     },
     "execution_count": 13,
     "metadata": {},
     "output_type": "execute_result"
    }
   ],
   "source": [
    "df.isna().sum()"
   ]
  },
  {
   "cell_type": "markdown",
   "metadata": {},
   "source": [
    "#### Dropping the nulls in Easting and Northing before converting them to Latitude and Longitude"
   ]
  },
  {
   "cell_type": "code",
   "execution_count": 14,
   "metadata": {},
   "outputs": [],
   "source": [
    "df = df.dropna(subset=['Easting', 'Northing'])"
   ]
  },
  {
   "cell_type": "markdown",
   "metadata": {},
   "source": [
    "#### Installing bng_latlon package to convert northing and easting to latitude and longitude\n"
   ]
  },
  {
   "cell_type": "code",
   "execution_count": 15,
   "metadata": {},
   "outputs": [],
   "source": [
    "# !pip install bng_latlon"
   ]
  },
  {
   "cell_type": "markdown",
   "metadata": {},
   "source": [
    "#### Creating a user defined function to convert easting and northing values to longitude and latitude and writing to new columns"
   ]
  },
  {
   "cell_type": "code",
   "execution_count": 16,
   "metadata": {},
   "outputs": [],
   "source": [
    "from bng_latlon import OSGB36toWGS84\n",
    "def latlong(df):\n",
    "    lat_long = []\n",
    "    for i in range(len(df)):\n",
    "        lat_long.append( OSGB36toWGS84(df[i][0],df[i][1]) )\n",
    "    return lat_long\n",
    "df['Easting'] = df['Easting'].astype('int64')\n",
    "df['Northing'] = df['Northing'].astype('int64')\n",
    "df1 = df [['Easting','Northing']]\n",
    "values = (df1.values)\n",
    "lat_long = latlong(values)\n",
    "#Writing to dataframe\n",
    "lat = []\n",
    "long = []\n",
    "for i in range(len(lat_long)):\n",
    "    lat.append(lat_long[i][0])\n",
    "    long.append(lat_long[i][1])\n",
    "    \n",
    "df['Latitude'] = lat\n",
    "df['Longitude'] = long"
   ]
  },
  {
   "cell_type": "markdown",
   "metadata": {},
   "source": [
    "#### Creating a new dataframe that drops all null values"
   ]
  },
  {
   "cell_type": "code",
   "execution_count": 17,
   "metadata": {},
   "outputs": [],
   "source": [
    "na_df = df.dropna()"
   ]
  },
  {
   "cell_type": "code",
   "execution_count": 18,
   "metadata": {},
   "outputs": [],
   "source": [
    "df = na_df"
   ]
  },
  {
   "cell_type": "code",
   "execution_count": 19,
   "metadata": {},
   "outputs": [
    {
     "name": "stdout",
     "output_type": "stream",
     "text": [
      "<class 'pandas.core.frame.DataFrame'>\n",
      "Int64Index: 103887 entries, 2 to 395480\n",
      "Data columns (total 18 columns):\n",
      " #   Column                  Non-Null Count   Dtype  \n",
      "---  ------                  --------------   -----  \n",
      " 0   route_id                103887 non-null  int64  \n",
      " 1   unique_id               103887 non-null  object \n",
      " 2   service_start_date      103887 non-null  object \n",
      " 3   update_origin           103887 non-null  object \n",
      " 4   train_platform          103887 non-null  object \n",
      " 5   planned_time_arrival    103887 non-null  object \n",
      " 6   planned_time_departure  103887 non-null  object \n",
      " 7   actual_arrival_time     103887 non-null  object \n",
      " 8   actual_departure_time   103887 non-null  object \n",
      " 9   platform                103887 non-null  object \n",
      " 10  train_length            103887 non-null  float64\n",
      " 11  is_delayed_arrival      103887 non-null  object \n",
      " 12  is_delayed_departure    103887 non-null  object \n",
      " 13  StationName             103887 non-null  object \n",
      " 14  Easting                 103887 non-null  int64  \n",
      " 15  Northing                103887 non-null  int64  \n",
      " 16  Latitude                103887 non-null  float64\n",
      " 17  Longitude               103887 non-null  float64\n",
      "dtypes: float64(3), int64(3), object(12)\n",
      "memory usage: 15.1+ MB\n"
     ]
    }
   ],
   "source": [
    "#getting an overview of the amount of rows dropped and if we should continue with the null dropped dataset\n",
    "df.info()"
   ]
  },
  {
   "cell_type": "markdown",
   "metadata": {},
   "source": [
    "After dropping data we are left with ~100,000 datapoints which is ~25% of our total data we started. Observing the volume of the data, we believe this is significant for our analysis."
   ]
  },
  {
   "cell_type": "markdown",
   "metadata": {},
   "source": [
    "### Correcting column data types"
   ]
  },
  {
   "cell_type": "markdown",
   "metadata": {},
   "source": [
    "#### Changing the column type of the route_id appropriately for further analysis"
   ]
  },
  {
   "cell_type": "code",
   "execution_count": 20,
   "metadata": {},
   "outputs": [],
   "source": [
    "df['route_id'] = df['route_id'].astype(str)"
   ]
  },
  {
   "cell_type": "markdown",
   "metadata": {},
   "source": [
    "#### Changing the column type of the is_delayed_arrival and is_delayed_departure to boolean"
   ]
  },
  {
   "cell_type": "code",
   "execution_count": 21,
   "metadata": {},
   "outputs": [],
   "source": [
    "df['is_delayed_arrival'] = np.where(df['is_delayed_arrival'] == \"f\", False, True)"
   ]
  },
  {
   "cell_type": "code",
   "execution_count": 22,
   "metadata": {},
   "outputs": [
    {
     "data": {
      "text/plain": [
       "False    94854\n",
       "True      9033\n",
       "Name: is_delayed_arrival, dtype: int64"
      ]
     },
     "execution_count": 22,
     "metadata": {},
     "output_type": "execute_result"
    }
   ],
   "source": [
    "df['is_delayed_arrival'].value_counts()"
   ]
  },
  {
   "cell_type": "code",
   "execution_count": 23,
   "metadata": {},
   "outputs": [
    {
     "data": {
      "text/plain": [
       "dtype('bool')"
      ]
     },
     "execution_count": 23,
     "metadata": {},
     "output_type": "execute_result"
    }
   ],
   "source": [
    "df['is_delayed_arrival'].dtype"
   ]
  },
  {
   "cell_type": "code",
   "execution_count": 24,
   "metadata": {},
   "outputs": [],
   "source": [
    "df['is_delayed_departure'] = np.where(df['is_delayed_departure'] == \"f\", False, True)"
   ]
  },
  {
   "cell_type": "code",
   "execution_count": 25,
   "metadata": {},
   "outputs": [
    {
     "data": {
      "text/plain": [
       "False    94850\n",
       "True      9037\n",
       "Name: is_delayed_departure, dtype: int64"
      ]
     },
     "execution_count": 25,
     "metadata": {},
     "output_type": "execute_result"
    }
   ],
   "source": [
    "df['is_delayed_departure'].value_counts()"
   ]
  },
  {
   "cell_type": "code",
   "execution_count": 26,
   "metadata": {},
   "outputs": [
    {
     "data": {
      "text/plain": [
       "dtype('bool')"
      ]
     },
     "execution_count": 26,
     "metadata": {},
     "output_type": "execute_result"
    }
   ],
   "source": [
    "df['is_delayed_departure'].dtype"
   ]
  },
  {
   "cell_type": "markdown",
   "metadata": {},
   "source": [
    "#### Changing all dates or time columns to the correct data type."
   ]
  },
  {
   "cell_type": "code",
   "execution_count": 27,
   "metadata": {},
   "outputs": [],
   "source": [
    "from datetime import time\n",
    "#changing the columns with dates to datetime objects\n",
    "df['service_start_date'] = pd.to_datetime(df['service_start_date'])\n",
    "df['planned_time_arrival'] = pd.to_datetime(df['planned_time_arrival'], format='%H:%M:%S').dt.time\n",
    "df['planned_time_departure'] = pd.to_datetime(df['planned_time_departure'], format='%H:%M:%S').dt.time\n",
    "df['actual_arrival_time'] = pd.to_datetime(df['actual_arrival_time'], format='%H:%M:%S').dt.time\n",
    "df['actual_departure_time'] = pd.to_datetime(df['actual_departure_time'], format='%H:%M:%S').dt.time"
   ]
  },
  {
   "cell_type": "markdown",
   "metadata": {},
   "source": [
    "#### Converting all time columns to datetime objects with the service_start_date as the date combined with the timestamp"
   ]
  },
  {
   "cell_type": "code",
   "execution_count": 28,
   "metadata": {},
   "outputs": [],
   "source": [
    "from datetime import datetime\n",
    "from datetime import timedelta\n",
    "df['actual_departure_time'] = df.apply(lambda row: datetime.combine(row['service_start_date'].date(), row['actual_departure_time']), axis=1)\n",
    "df['planned_time_departure'] = df.apply(lambda row: datetime.combine(row['service_start_date'].date(), row['planned_time_departure']), axis=1)\n",
    "df['planned_time_arrival'] = df.apply(lambda row: datetime.combine(row['service_start_date'].date(), row['planned_time_arrival']), axis=1)\n",
    "df['actual_arrival_time'] = df.apply(lambda row: datetime.combine(row['service_start_date'].date(), row['actual_arrival_time']), axis=1)"
   ]
  },
  {
   "cell_type": "code",
   "execution_count": 29,
   "metadata": {},
   "outputs": [
    {
     "data": {
      "text/plain": [
       "route_id                          object\n",
       "unique_id                         object\n",
       "service_start_date        datetime64[ns]\n",
       "update_origin                     object\n",
       "train_platform                    object\n",
       "planned_time_arrival      datetime64[ns]\n",
       "planned_time_departure    datetime64[ns]\n",
       "actual_arrival_time       datetime64[ns]\n",
       "actual_departure_time     datetime64[ns]\n",
       "platform                          object\n",
       "train_length                     float64\n",
       "is_delayed_arrival                  bool\n",
       "is_delayed_departure                bool\n",
       "StationName                       object\n",
       "Easting                            int64\n",
       "Northing                           int64\n",
       "Latitude                         float64\n",
       "Longitude                        float64\n",
       "dtype: object"
      ]
     },
     "execution_count": 29,
     "metadata": {},
     "output_type": "execute_result"
    }
   ],
   "source": [
    "df.dtypes"
   ]
  },
  {
   "cell_type": "markdown",
   "metadata": {},
   "source": [
    "#### Creating user defined functions to check for cases of dates arrival times or actual departure times taking place the day after the service start day, and add a day to the column values"
   ]
  },
  {
   "cell_type": "code",
   "execution_count": 30,
   "metadata": {},
   "outputs": [],
   "source": [
    "from datetime import datetime\n",
    "from datetime import timedelta\n",
    "\n",
    "#Adding service_start_date to time objects to get a datetime for every time column\n",
    "def change_actual_departure(row):\n",
    "    #Check if times occur after the initial service start day and correcting their date to the next day\n",
    "    if row['actual_departure_time'] < row['planned_time_departure']: \n",
    "        return row['actual_departure_time'] + timedelta(days=1)\n",
    "    return row['actual_departure_time']\n",
    "\n",
    "def change_arrival(row):\n",
    "    #Check if times occur after the initial service start day and correcting their date to the next day\n",
    "    if row['actual_arrival_time'] < row['planned_time_arrival']: \n",
    "        return row['actual_arrival_time'] + timedelta(days=1)\n",
    "    return row['actual_arrival_time']\n",
    "\n",
    "df['actual_departure_time'] = df.apply(change_actual_departure, axis=1)\n",
    "df['actual_arrival_time'] = df.apply(change_arrival, axis=1)"
   ]
  },
  {
   "cell_type": "markdown",
   "metadata": {},
   "source": [
    "#### Creating a calculated time difference column for calculating delayed departure and arrival minutes"
   ]
  },
  {
   "cell_type": "code",
   "execution_count": 31,
   "metadata": {},
   "outputs": [],
   "source": [
    "df['actual_vs_planned_arrival'] = df['actual_arrival_time'] - df['planned_time_arrival']\n",
    "df['actual_vs_planned_departure'] = df['actual_departure_time'] - df['planned_time_departure']"
   ]
  },
  {
   "cell_type": "markdown",
   "metadata": {},
   "source": [
    "#### Creating delayed arrival and delayed departure minutes column"
   ]
  },
  {
   "cell_type": "code",
   "execution_count": 32,
   "metadata": {},
   "outputs": [],
   "source": [
    "df['delayed_arrival_min'] = (df['actual_vs_planned_arrival'].dt.total_seconds() / 60)\n",
    "df['delayed_departure_min'] = (df['actual_vs_planned_departure'].dt.total_seconds() / 60)"
   ]
  },
  {
   "cell_type": "markdown",
   "metadata": {},
   "source": [
    "#### Function to calculate origin and destination for each trip"
   ]
  },
  {
   "cell_type": "code",
   "execution_count": 33,
   "metadata": {},
   "outputs": [],
   "source": [
    "def calculate_origin_destination(group):\n",
    "    origin = group.iloc[0]['StationName']\n",
    "    destination = group.iloc[-1]['StationName']\n",
    "    return pd.Series({\n",
    "        'Origin': origin,\n",
    "        'Destination': destination\n",
    "    })\n",
    "\n",
    "# Group by route_id, unique_id, and service_start_date, then apply the function to calculate origin and destination\n",
    "origin_destination = df.groupby(['route_id', 'unique_id', 'service_start_date']).apply(calculate_origin_destination).reset_index()\n",
    "\n",
    "#Joining into original dataframe\n",
    "df = df.merge(origin_destination, on=['route_id', 'unique_id', 'service_start_date'], how='left')"
   ]
  },
  {
   "cell_type": "code",
   "execution_count": null,
   "metadata": {},
   "outputs": [],
   "source": [
    "df2 = pd.read_excel(r'./Data/2.Passenger_population_station_TOC_2023.xlsx')\n",
    "df2['StationName'] = df2['StationName'] + ' Rail Station'"
   ]
  },
  {
   "cell_type": "code",
   "execution_count": null,
   "metadata": {},
   "outputs": [],
   "source": [
    "merge = df2[['StationName','Operator']]\n",
    "df = pd.merge(df,merge,left_on='StationName',right_on='StationName',how='left')\n",
    "df.head()"
   ]
  },
  {
   "cell_type": "code",
   "execution_count": null,
   "metadata": {},
   "outputs": [],
   "source": [
    "df = df.dropna()"
   ]
  },
  {
   "cell_type": "markdown",
   "metadata": {},
   "source": [
    "#### Getting an overview of the data before exporting to csv file."
   ]
  },
  {
   "cell_type": "code",
   "execution_count": 34,
   "metadata": {},
   "outputs": [
    {
     "name": "stdout",
     "output_type": "stream",
     "text": [
      "<class 'pandas.core.frame.DataFrame'>\n",
      "Int64Index: 103887 entries, 0 to 103886\n",
      "Data columns (total 24 columns):\n",
      " #   Column                       Non-Null Count   Dtype          \n",
      "---  ------                       --------------   -----          \n",
      " 0   route_id                     103887 non-null  object         \n",
      " 1   unique_id                    103887 non-null  object         \n",
      " 2   service_start_date           103887 non-null  datetime64[ns] \n",
      " 3   update_origin                103887 non-null  object         \n",
      " 4   train_platform               103887 non-null  object         \n",
      " 5   planned_time_arrival         103887 non-null  datetime64[ns] \n",
      " 6   planned_time_departure       103887 non-null  datetime64[ns] \n",
      " 7   actual_arrival_time          103887 non-null  datetime64[ns] \n",
      " 8   actual_departure_time        103887 non-null  datetime64[ns] \n",
      " 9   platform                     103887 non-null  object         \n",
      " 10  train_length                 103887 non-null  float64        \n",
      " 11  is_delayed_arrival           103887 non-null  bool           \n",
      " 12  is_delayed_departure         103887 non-null  bool           \n",
      " 13  StationName                  103887 non-null  object         \n",
      " 14  Easting                      103887 non-null  int64          \n",
      " 15  Northing                     103887 non-null  int64          \n",
      " 16  Latitude                     103887 non-null  float64        \n",
      " 17  Longitude                    103887 non-null  float64        \n",
      " 18  actual_vs_planned_arrival    103887 non-null  timedelta64[ns]\n",
      " 19  actual_vs_planned_departure  103887 non-null  timedelta64[ns]\n",
      " 20  delayed_arrival_min          103887 non-null  float64        \n",
      " 21  delayed_departure_min        103887 non-null  float64        \n",
      " 22  Origin                       103887 non-null  object         \n",
      " 23  Destination                  103887 non-null  object         \n",
      "dtypes: bool(2), datetime64[ns](5), float64(5), int64(2), object(8), timedelta64[ns](2)\n",
      "memory usage: 18.4+ MB\n"
     ]
    }
   ],
   "source": [
    "df.info()"
   ]
  },
  {
   "cell_type": "code",
   "execution_count": 35,
   "metadata": {},
   "outputs": [
    {
     "data": {
      "text/html": [
       "<div>\n",
       "<style scoped>\n",
       "    .dataframe tbody tr th:only-of-type {\n",
       "        vertical-align: middle;\n",
       "    }\n",
       "\n",
       "    .dataframe tbody tr th {\n",
       "        vertical-align: top;\n",
       "    }\n",
       "\n",
       "    .dataframe thead th {\n",
       "        text-align: right;\n",
       "    }\n",
       "</style>\n",
       "<table border=\"1\" class=\"dataframe\">\n",
       "  <thead>\n",
       "    <tr style=\"text-align: right;\">\n",
       "      <th></th>\n",
       "      <th>route_id</th>\n",
       "      <th>unique_id</th>\n",
       "      <th>service_start_date</th>\n",
       "      <th>update_origin</th>\n",
       "      <th>train_platform</th>\n",
       "      <th>planned_time_arrival</th>\n",
       "      <th>planned_time_departure</th>\n",
       "      <th>actual_arrival_time</th>\n",
       "      <th>actual_departure_time</th>\n",
       "      <th>platform</th>\n",
       "      <th>...</th>\n",
       "      <th>Easting</th>\n",
       "      <th>Northing</th>\n",
       "      <th>Latitude</th>\n",
       "      <th>Longitude</th>\n",
       "      <th>actual_vs_planned_arrival</th>\n",
       "      <th>actual_vs_planned_departure</th>\n",
       "      <th>delayed_arrival_min</th>\n",
       "      <th>delayed_departure_min</th>\n",
       "      <th>Origin</th>\n",
       "      <th>Destination</th>\n",
       "    </tr>\n",
       "  </thead>\n",
       "  <tbody>\n",
       "    <tr>\n",
       "      <th>0</th>\n",
       "      <td>202407038097422</td>\n",
       "      <td>P97422</td>\n",
       "      <td>2024-07-03</td>\n",
       "      <td>TD</td>\n",
       "      <td>BEXLEY</td>\n",
       "      <td>2024-07-03 23:17:00</td>\n",
       "      <td>2024-07-03 23:17:00</td>\n",
       "      <td>2024-07-03 23:18:00</td>\n",
       "      <td>2024-07-03 23:19:00</td>\n",
       "      <td>2</td>\n",
       "      <td>...</td>\n",
       "      <td>549380</td>\n",
       "      <td>173435</td>\n",
       "      <td>51.440218</td>\n",
       "      <td>0.147903</td>\n",
       "      <td>0 days 00:01:00</td>\n",
       "      <td>0 days 00:02:00</td>\n",
       "      <td>1.0</td>\n",
       "      <td>2.0</td>\n",
       "      <td>Bexley Rail Station</td>\n",
       "      <td>Bexley Rail Station</td>\n",
       "    </tr>\n",
       "    <tr>\n",
       "      <th>1</th>\n",
       "      <td>202407037139898</td>\n",
       "      <td>G39898</td>\n",
       "      <td>2024-07-03</td>\n",
       "      <td>CIS</td>\n",
       "      <td>BOXHAWH</td>\n",
       "      <td>2024-07-03 23:18:00</td>\n",
       "      <td>2024-07-03 23:18:00</td>\n",
       "      <td>2024-07-03 23:18:00</td>\n",
       "      <td>2024-07-03 23:18:00</td>\n",
       "      <td>1</td>\n",
       "      <td>...</td>\n",
       "      <td>516744</td>\n",
       "      <td>151865</td>\n",
       "      <td>51.254010</td>\n",
       "      <td>-0.328490</td>\n",
       "      <td>0 days 00:00:00</td>\n",
       "      <td>0 days 00:00:00</td>\n",
       "      <td>0.0</td>\n",
       "      <td>0.0</td>\n",
       "      <td>Box Hill &amp; Westhumble Rail Station</td>\n",
       "      <td>Box Hill &amp; Westhumble Rail Station</td>\n",
       "    </tr>\n",
       "    <tr>\n",
       "      <th>2</th>\n",
       "      <td>202407037154196</td>\n",
       "      <td>G54196</td>\n",
       "      <td>2024-07-03</td>\n",
       "      <td>CIS</td>\n",
       "      <td>HYWRDSH</td>\n",
       "      <td>2024-07-03 23:16:00</td>\n",
       "      <td>2024-07-03 23:17:00</td>\n",
       "      <td>2024-07-03 23:17:00</td>\n",
       "      <td>2024-07-03 23:18:00</td>\n",
       "      <td>3</td>\n",
       "      <td>...</td>\n",
       "      <td>533045</td>\n",
       "      <td>124630</td>\n",
       "      <td>51.005680</td>\n",
       "      <td>-0.105078</td>\n",
       "      <td>0 days 00:01:00</td>\n",
       "      <td>0 days 00:01:00</td>\n",
       "      <td>1.0</td>\n",
       "      <td>1.0</td>\n",
       "      <td>Haywards Heath Rail Station</td>\n",
       "      <td>Three Bridges Rail Station</td>\n",
       "    </tr>\n",
       "    <tr>\n",
       "      <th>3</th>\n",
       "      <td>202407037154196</td>\n",
       "      <td>G54196</td>\n",
       "      <td>2024-07-03</td>\n",
       "      <td>CIS</td>\n",
       "      <td>THBDGS</td>\n",
       "      <td>2024-07-03 23:28:00</td>\n",
       "      <td>2024-07-03 23:29:00</td>\n",
       "      <td>2024-07-03 23:29:00</td>\n",
       "      <td>2024-07-03 23:30:00</td>\n",
       "      <td>4</td>\n",
       "      <td>...</td>\n",
       "      <td>528800</td>\n",
       "      <td>136900</td>\n",
       "      <td>51.116922</td>\n",
       "      <td>-0.161184</td>\n",
       "      <td>0 days 00:01:00</td>\n",
       "      <td>0 days 00:01:00</td>\n",
       "      <td>1.0</td>\n",
       "      <td>1.0</td>\n",
       "      <td>Haywards Heath Rail Station</td>\n",
       "      <td>Three Bridges Rail Station</td>\n",
       "    </tr>\n",
       "    <tr>\n",
       "      <th>4</th>\n",
       "      <td>202407037150851</td>\n",
       "      <td>G50851</td>\n",
       "      <td>2024-07-03</td>\n",
       "      <td>TD</td>\n",
       "      <td>HRPNDN</td>\n",
       "      <td>2024-07-03 23:22:00</td>\n",
       "      <td>2024-07-03 23:22:00</td>\n",
       "      <td>2024-07-03 23:22:00</td>\n",
       "      <td>2024-07-03 23:22:00</td>\n",
       "      <td>2</td>\n",
       "      <td>...</td>\n",
       "      <td>513735</td>\n",
       "      <td>214175</td>\n",
       "      <td>51.814643</td>\n",
       "      <td>-0.351481</td>\n",
       "      <td>0 days 00:00:00</td>\n",
       "      <td>0 days 00:00:00</td>\n",
       "      <td>0.0</td>\n",
       "      <td>0.0</td>\n",
       "      <td>Harpenden Rail Station</td>\n",
       "      <td>Luton Airport Parkway Rail Station</td>\n",
       "    </tr>\n",
       "  </tbody>\n",
       "</table>\n",
       "<p>5 rows × 24 columns</p>\n",
       "</div>"
      ],
      "text/plain": [
       "          route_id unique_id service_start_date update_origin train_platform  \\\n",
       "0  202407038097422    P97422         2024-07-03            TD         BEXLEY   \n",
       "1  202407037139898    G39898         2024-07-03           CIS        BOXHAWH   \n",
       "2  202407037154196    G54196         2024-07-03           CIS        HYWRDSH   \n",
       "3  202407037154196    G54196         2024-07-03           CIS         THBDGS   \n",
       "4  202407037150851    G50851         2024-07-03            TD         HRPNDN   \n",
       "\n",
       "  planned_time_arrival planned_time_departure actual_arrival_time  \\\n",
       "0  2024-07-03 23:17:00    2024-07-03 23:17:00 2024-07-03 23:18:00   \n",
       "1  2024-07-03 23:18:00    2024-07-03 23:18:00 2024-07-03 23:18:00   \n",
       "2  2024-07-03 23:16:00    2024-07-03 23:17:00 2024-07-03 23:17:00   \n",
       "3  2024-07-03 23:28:00    2024-07-03 23:29:00 2024-07-03 23:29:00   \n",
       "4  2024-07-03 23:22:00    2024-07-03 23:22:00 2024-07-03 23:22:00   \n",
       "\n",
       "  actual_departure_time platform  ...  Easting  Northing   Latitude Longitude  \\\n",
       "0   2024-07-03 23:19:00        2  ...   549380    173435  51.440218  0.147903   \n",
       "1   2024-07-03 23:18:00        1  ...   516744    151865  51.254010 -0.328490   \n",
       "2   2024-07-03 23:18:00        3  ...   533045    124630  51.005680 -0.105078   \n",
       "3   2024-07-03 23:30:00        4  ...   528800    136900  51.116922 -0.161184   \n",
       "4   2024-07-03 23:22:00        2  ...   513735    214175  51.814643 -0.351481   \n",
       "\n",
       "   actual_vs_planned_arrival  actual_vs_planned_departure  \\\n",
       "0            0 days 00:01:00              0 days 00:02:00   \n",
       "1            0 days 00:00:00              0 days 00:00:00   \n",
       "2            0 days 00:01:00              0 days 00:01:00   \n",
       "3            0 days 00:01:00              0 days 00:01:00   \n",
       "4            0 days 00:00:00              0 days 00:00:00   \n",
       "\n",
       "   delayed_arrival_min  delayed_departure_min  \\\n",
       "0                  1.0                    2.0   \n",
       "1                  0.0                    0.0   \n",
       "2                  1.0                    1.0   \n",
       "3                  1.0                    1.0   \n",
       "4                  0.0                    0.0   \n",
       "\n",
       "                               Origin                         Destination  \n",
       "0                 Bexley Rail Station                 Bexley Rail Station  \n",
       "1  Box Hill & Westhumble Rail Station  Box Hill & Westhumble Rail Station  \n",
       "2         Haywards Heath Rail Station          Three Bridges Rail Station  \n",
       "3         Haywards Heath Rail Station          Three Bridges Rail Station  \n",
       "4              Harpenden Rail Station  Luton Airport Parkway Rail Station  \n",
       "\n",
       "[5 rows x 24 columns]"
      ]
     },
     "execution_count": 35,
     "metadata": {},
     "output_type": "execute_result"
    }
   ],
   "source": [
    "df.head"
   ]
  },
  {
   "cell_type": "code",
   "execution_count": 37,
   "metadata": {},
   "outputs": [
    {
     "data": {
      "text/html": [
       "<div>\n",
       "<style scoped>\n",
       "    .dataframe tbody tr th:only-of-type {\n",
       "        vertical-align: middle;\n",
       "    }\n",
       "\n",
       "    .dataframe tbody tr th {\n",
       "        vertical-align: top;\n",
       "    }\n",
       "\n",
       "    .dataframe thead th {\n",
       "        text-align: right;\n",
       "    }\n",
       "</style>\n",
       "<table border=\"1\" class=\"dataframe\">\n",
       "  <thead>\n",
       "    <tr style=\"text-align: right;\">\n",
       "      <th></th>\n",
       "      <th>train_length</th>\n",
       "      <th>Easting</th>\n",
       "      <th>Northing</th>\n",
       "      <th>Latitude</th>\n",
       "      <th>Longitude</th>\n",
       "      <th>actual_vs_planned_arrival</th>\n",
       "      <th>actual_vs_planned_departure</th>\n",
       "      <th>delayed_arrival_min</th>\n",
       "      <th>delayed_departure_min</th>\n",
       "    </tr>\n",
       "  </thead>\n",
       "  <tbody>\n",
       "    <tr>\n",
       "      <th>count</th>\n",
       "      <td>103887.000000</td>\n",
       "      <td>103887.000000</td>\n",
       "      <td>103887.000000</td>\n",
       "      <td>103887.000000</td>\n",
       "      <td>103887.000000</td>\n",
       "      <td>103887</td>\n",
       "      <td>103887</td>\n",
       "      <td>103887.000000</td>\n",
       "      <td>103887.000000</td>\n",
       "    </tr>\n",
       "    <tr>\n",
       "      <th>mean</th>\n",
       "      <td>7.172899</td>\n",
       "      <td>524354.768980</td>\n",
       "      <td>197851.466122</td>\n",
       "      <td>51.663219</td>\n",
       "      <td>-0.212829</td>\n",
       "      <td>0 days 00:03:51.635334546</td>\n",
       "      <td>0 days 00:03:59.692743076</td>\n",
       "      <td>3.860589</td>\n",
       "      <td>3.994879</td>\n",
       "    </tr>\n",
       "    <tr>\n",
       "      <th>std</th>\n",
       "      <td>2.818770</td>\n",
       "      <td>53398.118784</td>\n",
       "      <td>89837.579662</td>\n",
       "      <td>0.811779</td>\n",
       "      <td>0.771324</td>\n",
       "      <td>0 days 00:10:15.102628356</td>\n",
       "      <td>0 days 00:10:15.170155517</td>\n",
       "      <td>10.251710</td>\n",
       "      <td>10.252836</td>\n",
       "    </tr>\n",
       "    <tr>\n",
       "      <th>min</th>\n",
       "      <td>2.000000</td>\n",
       "      <td>154150.000000</td>\n",
       "      <td>35730.000000</td>\n",
       "      <td>50.170489</td>\n",
       "      <td>-5.444252</td>\n",
       "      <td>0 days 00:00:00</td>\n",
       "      <td>0 days 00:00:00</td>\n",
       "      <td>0.000000</td>\n",
       "      <td>0.000000</td>\n",
       "    </tr>\n",
       "    <tr>\n",
       "      <th>25%</th>\n",
       "      <td>4.000000</td>\n",
       "      <td>521800.000000</td>\n",
       "      <td>159385.000000</td>\n",
       "      <td>51.313156</td>\n",
       "      <td>-0.238674</td>\n",
       "      <td>0 days 00:00:00</td>\n",
       "      <td>0 days 00:00:00</td>\n",
       "      <td>0.000000</td>\n",
       "      <td>0.000000</td>\n",
       "    </tr>\n",
       "    <tr>\n",
       "      <th>50%</th>\n",
       "      <td>8.000000</td>\n",
       "      <td>531910.000000</td>\n",
       "      <td>175500.000000</td>\n",
       "      <td>51.464186</td>\n",
       "      <td>-0.103332</td>\n",
       "      <td>0 days 00:00:00</td>\n",
       "      <td>0 days 00:00:00</td>\n",
       "      <td>0.000000</td>\n",
       "      <td>0.000000</td>\n",
       "    </tr>\n",
       "    <tr>\n",
       "      <th>75%</th>\n",
       "      <td>8.000000</td>\n",
       "      <td>546195.000000</td>\n",
       "      <td>195000.000000</td>\n",
       "      <td>51.633940</td>\n",
       "      <td>0.101690</td>\n",
       "      <td>0 days 00:03:00</td>\n",
       "      <td>0 days 00:04:00</td>\n",
       "      <td>3.000000</td>\n",
       "      <td>4.000000</td>\n",
       "    </tr>\n",
       "    <tr>\n",
       "      <th>max</th>\n",
       "      <td>12.000000</td>\n",
       "      <td>652420.000000</td>\n",
       "      <td>709600.000000</td>\n",
       "      <td>56.273781</td>\n",
       "      <td>1.715711</td>\n",
       "      <td>0 days 04:16:00</td>\n",
       "      <td>0 days 04:14:00</td>\n",
       "      <td>256.000000</td>\n",
       "      <td>254.000000</td>\n",
       "    </tr>\n",
       "  </tbody>\n",
       "</table>\n",
       "</div>"
      ],
      "text/plain": [
       "        train_length        Easting       Northing       Latitude  \\\n",
       "count  103887.000000  103887.000000  103887.000000  103887.000000   \n",
       "mean        7.172899  524354.768980  197851.466122      51.663219   \n",
       "std         2.818770   53398.118784   89837.579662       0.811779   \n",
       "min         2.000000  154150.000000   35730.000000      50.170489   \n",
       "25%         4.000000  521800.000000  159385.000000      51.313156   \n",
       "50%         8.000000  531910.000000  175500.000000      51.464186   \n",
       "75%         8.000000  546195.000000  195000.000000      51.633940   \n",
       "max        12.000000  652420.000000  709600.000000      56.273781   \n",
       "\n",
       "           Longitude  actual_vs_planned_arrival actual_vs_planned_departure  \\\n",
       "count  103887.000000                     103887                      103887   \n",
       "mean       -0.212829  0 days 00:03:51.635334546   0 days 00:03:59.692743076   \n",
       "std         0.771324  0 days 00:10:15.102628356   0 days 00:10:15.170155517   \n",
       "min        -5.444252            0 days 00:00:00             0 days 00:00:00   \n",
       "25%        -0.238674            0 days 00:00:00             0 days 00:00:00   \n",
       "50%        -0.103332            0 days 00:00:00             0 days 00:00:00   \n",
       "75%         0.101690            0 days 00:03:00             0 days 00:04:00   \n",
       "max         1.715711            0 days 04:16:00             0 days 04:14:00   \n",
       "\n",
       "       delayed_arrival_min  delayed_departure_min  \n",
       "count        103887.000000          103887.000000  \n",
       "mean              3.860589               3.994879  \n",
       "std              10.251710              10.252836  \n",
       "min               0.000000               0.000000  \n",
       "25%               0.000000               0.000000  \n",
       "50%               0.000000               0.000000  \n",
       "75%               3.000000               4.000000  \n",
       "max             256.000000             254.000000  "
      ]
     },
     "execution_count": 37,
     "metadata": {},
     "output_type": "execute_result"
    }
   ],
   "source": [
    "df.describe()"
   ]
  },
  {
   "cell_type": "markdown",
   "metadata": {},
   "source": [
    "#### Exporting the dataframe into a csv file for use in PowerBI or other requirements"
   ]
  },
  {
   "cell_type": "code",
   "execution_count": 38,
   "metadata": {},
   "outputs": [],
   "source": [
    "df.to_csv('./Data/cleanRailData.csv', index=False)"
   ]
  },
  {
   "cell_type": "markdown",
   "metadata": {},
   "source": [
    "### Delay Prediction Model"
   ]
  },
  {
   "cell_type": "markdown",
   "metadata": {},
   "source": [
    "Calculating Journey time for each trip"
   ]
  },
  {
   "cell_type": "code",
   "execution_count": 81,
   "metadata": {},
   "outputs": [
    {
     "data": {
      "text/html": [
       "<div>\n",
       "<style scoped>\n",
       "    .dataframe tbody tr th:only-of-type {\n",
       "        vertical-align: middle;\n",
       "    }\n",
       "\n",
       "    .dataframe tbody tr th {\n",
       "        vertical-align: top;\n",
       "    }\n",
       "\n",
       "    .dataframe thead th {\n",
       "        text-align: right;\n",
       "    }\n",
       "</style>\n",
       "<table border=\"1\" class=\"dataframe\">\n",
       "  <thead>\n",
       "    <tr style=\"text-align: right;\">\n",
       "      <th></th>\n",
       "      <th>route_id</th>\n",
       "      <th>unique_id</th>\n",
       "      <th>service_start_date</th>\n",
       "      <th>Origin</th>\n",
       "      <th>Destination</th>\n",
       "      <th>EarliestArrival</th>\n",
       "      <th>LatestArrival</th>\n",
       "      <th>Journey_Time</th>\n",
       "    </tr>\n",
       "  </thead>\n",
       "  <tbody>\n",
       "    <tr>\n",
       "      <th>0</th>\n",
       "      <td>202407036700008</td>\n",
       "      <td>C00008</td>\n",
       "      <td>2024-07-03</td>\n",
       "      <td>Irlam Rail Station</td>\n",
       "      <td>Irlam Rail Station</td>\n",
       "      <td>2024-07-03 23:24:00</td>\n",
       "      <td>2024-07-03 23:24:00</td>\n",
       "      <td>0.0</td>\n",
       "    </tr>\n",
       "    <tr>\n",
       "      <th>1</th>\n",
       "      <td>202407036706303</td>\n",
       "      <td>C06303</td>\n",
       "      <td>2024-07-03</td>\n",
       "      <td>Bicester North Rail Station</td>\n",
       "      <td>Bicester North Rail Station</td>\n",
       "      <td>2024-07-03 23:29:00</td>\n",
       "      <td>2024-07-03 23:29:00</td>\n",
       "      <td>0.0</td>\n",
       "    </tr>\n",
       "    <tr>\n",
       "      <th>2</th>\n",
       "      <td>202407036706305</td>\n",
       "      <td>C06305</td>\n",
       "      <td>2024-07-03</td>\n",
       "      <td>Wembley Stadium Rail Station</td>\n",
       "      <td>Wembley Stadium Rail Station</td>\n",
       "      <td>2024-07-03 23:17:00</td>\n",
       "      <td>2024-07-03 23:17:00</td>\n",
       "      <td>0.0</td>\n",
       "    </tr>\n",
       "    <tr>\n",
       "      <th>3</th>\n",
       "      <td>202407036716226</td>\n",
       "      <td>C16226</td>\n",
       "      <td>2024-07-03</td>\n",
       "      <td>Princes Risborough Rail Station</td>\n",
       "      <td>Princes Risborough Rail Station</td>\n",
       "      <td>2024-07-03 23:22:00</td>\n",
       "      <td>2024-07-03 23:22:00</td>\n",
       "      <td>0.0</td>\n",
       "    </tr>\n",
       "    <tr>\n",
       "      <th>4</th>\n",
       "      <td>202407036732817</td>\n",
       "      <td>C32817</td>\n",
       "      <td>2024-07-03</td>\n",
       "      <td>Limehouse Rail Station</td>\n",
       "      <td>Limehouse Rail Station</td>\n",
       "      <td>2024-07-03 23:19:00</td>\n",
       "      <td>2024-07-03 23:19:00</td>\n",
       "      <td>0.0</td>\n",
       "    </tr>\n",
       "  </tbody>\n",
       "</table>\n",
       "</div>"
      ],
      "text/plain": [
       "          route_id unique_id service_start_date  \\\n",
       "0  202407036700008    C00008         2024-07-03   \n",
       "1  202407036706303    C06303         2024-07-03   \n",
       "2  202407036706305    C06305         2024-07-03   \n",
       "3  202407036716226    C16226         2024-07-03   \n",
       "4  202407036732817    C32817         2024-07-03   \n",
       "\n",
       "                            Origin                      Destination  \\\n",
       "0               Irlam Rail Station               Irlam Rail Station   \n",
       "1      Bicester North Rail Station      Bicester North Rail Station   \n",
       "2     Wembley Stadium Rail Station     Wembley Stadium Rail Station   \n",
       "3  Princes Risborough Rail Station  Princes Risborough Rail Station   \n",
       "4           Limehouse Rail Station           Limehouse Rail Station   \n",
       "\n",
       "      EarliestArrival       LatestArrival  Journey_Time  \n",
       "0 2024-07-03 23:24:00 2024-07-03 23:24:00           0.0  \n",
       "1 2024-07-03 23:29:00 2024-07-03 23:29:00           0.0  \n",
       "2 2024-07-03 23:17:00 2024-07-03 23:17:00           0.0  \n",
       "3 2024-07-03 23:22:00 2024-07-03 23:22:00           0.0  \n",
       "4 2024-07-03 23:19:00 2024-07-03 23:19:00           0.0  "
      ]
     },
     "execution_count": 81,
     "metadata": {},
     "output_type": "execute_result"
    }
   ],
   "source": [
    "# Group by 'route_id', 'unique_id', 'service_start_date', 'origin', and 'destination' \n",
    "grouped = df.groupby(['route_id', 'unique_id', 'service_start_date', 'Origin', 'Destination']) \n",
    "# Calculate earliest and latest arrival times within each group\n",
    "journey_times = grouped['actual_arrival_time'].agg(EarliestArrival='min', LatestArrival='max') \n",
    "# Calculate the journey time in minutes \n",
    "journey_times['Journey_Time'] = (journey_times['LatestArrival'] - journey_times['EarliestArrival']).dt.total_seconds() / 60 \n",
    "# Reset index to make it easier to work with \n",
    "journey_times = journey_times.reset_index() \n",
    "journey_times.head()"
   ]
  },
  {
   "cell_type": "markdown",
   "metadata": {},
   "source": [
    "Creating model dataframe and merging on Journey time values"
   ]
  },
  {
   "cell_type": "code",
   "execution_count": 54,
   "metadata": {},
   "outputs": [
    {
     "data": {
      "text/html": [
       "<div>\n",
       "<style scoped>\n",
       "    .dataframe tbody tr th:only-of-type {\n",
       "        vertical-align: middle;\n",
       "    }\n",
       "\n",
       "    .dataframe tbody tr th {\n",
       "        vertical-align: top;\n",
       "    }\n",
       "\n",
       "    .dataframe thead th {\n",
       "        text-align: right;\n",
       "    }\n",
       "</style>\n",
       "<table border=\"1\" class=\"dataframe\">\n",
       "  <thead>\n",
       "    <tr style=\"text-align: right;\">\n",
       "      <th></th>\n",
       "      <th>unique_id</th>\n",
       "      <th>train_length</th>\n",
       "      <th>platform</th>\n",
       "      <th>Operator</th>\n",
       "      <th>is_delayed_arrival</th>\n",
       "      <th>route_id</th>\n",
       "      <th>service_start_date</th>\n",
       "      <th>Origin</th>\n",
       "      <th>Destination</th>\n",
       "      <th>EarliestArrival</th>\n",
       "      <th>LatestArrival</th>\n",
       "      <th>Journey_Time</th>\n",
       "    </tr>\n",
       "  </thead>\n",
       "  <tbody>\n",
       "    <tr>\n",
       "      <th>0</th>\n",
       "      <td>P97422</td>\n",
       "      <td>8.0</td>\n",
       "      <td>2</td>\n",
       "      <td>Southeastern</td>\n",
       "      <td>False</td>\n",
       "      <td>202407038097422</td>\n",
       "      <td>2024-07-03</td>\n",
       "      <td>Bexley Rail Station</td>\n",
       "      <td>Bexley Rail Station</td>\n",
       "      <td>2024-07-03 23:18:00</td>\n",
       "      <td>2024-07-03 23:18:00</td>\n",
       "      <td>0.0</td>\n",
       "    </tr>\n",
       "    <tr>\n",
       "      <th>1</th>\n",
       "      <td>P97422</td>\n",
       "      <td>8.0</td>\n",
       "      <td>2</td>\n",
       "      <td>Southeastern</td>\n",
       "      <td>False</td>\n",
       "      <td>202407048097422</td>\n",
       "      <td>2024-07-04</td>\n",
       "      <td>Hither Green Rail Station</td>\n",
       "      <td>Hither Green Rail Station</td>\n",
       "      <td>2024-07-04 22:59:00</td>\n",
       "      <td>2024-07-04 22:59:00</td>\n",
       "      <td>0.0</td>\n",
       "    </tr>\n",
       "    <tr>\n",
       "      <th>2</th>\n",
       "      <td>P97422</td>\n",
       "      <td>8.0</td>\n",
       "      <td>2</td>\n",
       "      <td>Southeastern</td>\n",
       "      <td>False</td>\n",
       "      <td>202407098097422</td>\n",
       "      <td>2024-07-09</td>\n",
       "      <td>London Waterloo East Rail Station</td>\n",
       "      <td>London Waterloo East Rail Station</td>\n",
       "      <td>2024-07-09 22:39:00</td>\n",
       "      <td>2024-07-09 22:39:00</td>\n",
       "      <td>0.0</td>\n",
       "    </tr>\n",
       "    <tr>\n",
       "      <th>3</th>\n",
       "      <td>P97422</td>\n",
       "      <td>8.0</td>\n",
       "      <td>2</td>\n",
       "      <td>Southeastern</td>\n",
       "      <td>False</td>\n",
       "      <td>202407108097422</td>\n",
       "      <td>2024-07-10</td>\n",
       "      <td>Lewisham Rail Station</td>\n",
       "      <td>Crayford Rail Station</td>\n",
       "      <td>2024-07-10 22:58:00</td>\n",
       "      <td>2024-07-10 23:23:00</td>\n",
       "      <td>25.0</td>\n",
       "    </tr>\n",
       "    <tr>\n",
       "      <th>4</th>\n",
       "      <td>G54196</td>\n",
       "      <td>12.0</td>\n",
       "      <td>3</td>\n",
       "      <td>Govia Thameslink Railway (Southern)</td>\n",
       "      <td>False</td>\n",
       "      <td>202407037154196</td>\n",
       "      <td>2024-07-03</td>\n",
       "      <td>Haywards Heath Rail Station</td>\n",
       "      <td>Three Bridges Rail Station</td>\n",
       "      <td>2024-07-03 23:17:00</td>\n",
       "      <td>2024-07-03 23:29:00</td>\n",
       "      <td>12.0</td>\n",
       "    </tr>\n",
       "    <tr>\n",
       "      <th>...</th>\n",
       "      <td>...</td>\n",
       "      <td>...</td>\n",
       "      <td>...</td>\n",
       "      <td>...</td>\n",
       "      <td>...</td>\n",
       "      <td>...</td>\n",
       "      <td>...</td>\n",
       "      <td>...</td>\n",
       "      <td>...</td>\n",
       "      <td>...</td>\n",
       "      <td>...</td>\n",
       "      <td>...</td>\n",
       "    </tr>\n",
       "    <tr>\n",
       "      <th>228186</th>\n",
       "      <td>G54585</td>\n",
       "      <td>12.0</td>\n",
       "      <td>2</td>\n",
       "      <td>Govia Thameslink Railway (Thameslink)</td>\n",
       "      <td>False</td>\n",
       "      <td>202407107154585</td>\n",
       "      <td>2024-07-10</td>\n",
       "      <td>Horley Rail Station</td>\n",
       "      <td>West Hampstead Thameslink Rail Station</td>\n",
       "      <td>2024-07-10 00:34:00</td>\n",
       "      <td>2024-07-10 01:52:00</td>\n",
       "      <td>78.0</td>\n",
       "    </tr>\n",
       "    <tr>\n",
       "      <th>228187</th>\n",
       "      <td>G54585</td>\n",
       "      <td>12.0</td>\n",
       "      <td>2</td>\n",
       "      <td>Govia Thameslink Railway (Thameslink)</td>\n",
       "      <td>False</td>\n",
       "      <td>202407117154585</td>\n",
       "      <td>2024-07-11</td>\n",
       "      <td>Preston Park Rail Station</td>\n",
       "      <td>St Albans City Rail Station</td>\n",
       "      <td>2024-07-11 00:06:00</td>\n",
       "      <td>2024-07-11 02:17:00</td>\n",
       "      <td>131.0</td>\n",
       "    </tr>\n",
       "    <tr>\n",
       "      <th>228188</th>\n",
       "      <td>G54585</td>\n",
       "      <td>12.0</td>\n",
       "      <td>2</td>\n",
       "      <td>Govia Thameslink Railway (Thameslink)</td>\n",
       "      <td>False</td>\n",
       "      <td>202407067154585</td>\n",
       "      <td>2024-07-06</td>\n",
       "      <td>London St Pancras International LL Rail Station</td>\n",
       "      <td>Flitwick Rail Station</td>\n",
       "      <td>2024-07-06 00:40:00</td>\n",
       "      <td>2024-07-06 03:17:00</td>\n",
       "      <td>157.0</td>\n",
       "    </tr>\n",
       "    <tr>\n",
       "      <th>228189</th>\n",
       "      <td>G54585</td>\n",
       "      <td>12.0</td>\n",
       "      <td>2</td>\n",
       "      <td>Govia Thameslink Railway (Thameslink)</td>\n",
       "      <td>False</td>\n",
       "      <td>202407107154585</td>\n",
       "      <td>2024-07-10</td>\n",
       "      <td>Horley Rail Station</td>\n",
       "      <td>West Hampstead Thameslink Rail Station</td>\n",
       "      <td>2024-07-10 00:34:00</td>\n",
       "      <td>2024-07-10 01:52:00</td>\n",
       "      <td>78.0</td>\n",
       "    </tr>\n",
       "    <tr>\n",
       "      <th>228190</th>\n",
       "      <td>G54585</td>\n",
       "      <td>12.0</td>\n",
       "      <td>2</td>\n",
       "      <td>Govia Thameslink Railway (Thameslink)</td>\n",
       "      <td>False</td>\n",
       "      <td>202407117154585</td>\n",
       "      <td>2024-07-11</td>\n",
       "      <td>Preston Park Rail Station</td>\n",
       "      <td>St Albans City Rail Station</td>\n",
       "      <td>2024-07-11 00:06:00</td>\n",
       "      <td>2024-07-11 02:17:00</td>\n",
       "      <td>131.0</td>\n",
       "    </tr>\n",
       "  </tbody>\n",
       "</table>\n",
       "<p>228191 rows × 12 columns</p>\n",
       "</div>"
      ],
      "text/plain": [
       "       unique_id  train_length platform  \\\n",
       "0         P97422           8.0        2   \n",
       "1         P97422           8.0        2   \n",
       "2         P97422           8.0        2   \n",
       "3         P97422           8.0        2   \n",
       "4         G54196          12.0        3   \n",
       "...          ...           ...      ...   \n",
       "228186    G54585          12.0        2   \n",
       "228187    G54585          12.0        2   \n",
       "228188    G54585          12.0        2   \n",
       "228189    G54585          12.0        2   \n",
       "228190    G54585          12.0        2   \n",
       "\n",
       "                                     Operator  is_delayed_arrival  \\\n",
       "0                                Southeastern               False   \n",
       "1                                Southeastern               False   \n",
       "2                                Southeastern               False   \n",
       "3                                Southeastern               False   \n",
       "4         Govia Thameslink Railway (Southern)               False   \n",
       "...                                       ...                 ...   \n",
       "228186  Govia Thameslink Railway (Thameslink)               False   \n",
       "228187  Govia Thameslink Railway (Thameslink)               False   \n",
       "228188  Govia Thameslink Railway (Thameslink)               False   \n",
       "228189  Govia Thameslink Railway (Thameslink)               False   \n",
       "228190  Govia Thameslink Railway (Thameslink)               False   \n",
       "\n",
       "               route_id service_start_date  \\\n",
       "0       202407038097422         2024-07-03   \n",
       "1       202407048097422         2024-07-04   \n",
       "2       202407098097422         2024-07-09   \n",
       "3       202407108097422         2024-07-10   \n",
       "4       202407037154196         2024-07-03   \n",
       "...                 ...                ...   \n",
       "228186  202407107154585         2024-07-10   \n",
       "228187  202407117154585         2024-07-11   \n",
       "228188  202407067154585         2024-07-06   \n",
       "228189  202407107154585         2024-07-10   \n",
       "228190  202407117154585         2024-07-11   \n",
       "\n",
       "                                                 Origin  \\\n",
       "0                                   Bexley Rail Station   \n",
       "1                             Hither Green Rail Station   \n",
       "2                     London Waterloo East Rail Station   \n",
       "3                                 Lewisham Rail Station   \n",
       "4                           Haywards Heath Rail Station   \n",
       "...                                                 ...   \n",
       "228186                              Horley Rail Station   \n",
       "228187                        Preston Park Rail Station   \n",
       "228188  London St Pancras International LL Rail Station   \n",
       "228189                              Horley Rail Station   \n",
       "228190                        Preston Park Rail Station   \n",
       "\n",
       "                                   Destination     EarliestArrival  \\\n",
       "0                          Bexley Rail Station 2024-07-03 23:18:00   \n",
       "1                    Hither Green Rail Station 2024-07-04 22:59:00   \n",
       "2            London Waterloo East Rail Station 2024-07-09 22:39:00   \n",
       "3                        Crayford Rail Station 2024-07-10 22:58:00   \n",
       "4                   Three Bridges Rail Station 2024-07-03 23:17:00   \n",
       "...                                        ...                 ...   \n",
       "228186  West Hampstead Thameslink Rail Station 2024-07-10 00:34:00   \n",
       "228187             St Albans City Rail Station 2024-07-11 00:06:00   \n",
       "228188                   Flitwick Rail Station 2024-07-06 00:40:00   \n",
       "228189  West Hampstead Thameslink Rail Station 2024-07-10 00:34:00   \n",
       "228190             St Albans City Rail Station 2024-07-11 00:06:00   \n",
       "\n",
       "             LatestArrival  Journey_Time  \n",
       "0      2024-07-03 23:18:00           0.0  \n",
       "1      2024-07-04 22:59:00           0.0  \n",
       "2      2024-07-09 22:39:00           0.0  \n",
       "3      2024-07-10 23:23:00          25.0  \n",
       "4      2024-07-03 23:29:00          12.0  \n",
       "...                    ...           ...  \n",
       "228186 2024-07-10 01:52:00          78.0  \n",
       "228187 2024-07-11 02:17:00         131.0  \n",
       "228188 2024-07-06 03:17:00         157.0  \n",
       "228189 2024-07-10 01:52:00          78.0  \n",
       "228190 2024-07-11 02:17:00         131.0  \n",
       "\n",
       "[228191 rows x 12 columns]"
      ]
     },
     "execution_count": 54,
     "metadata": {},
     "output_type": "execute_result"
    }
   ],
   "source": [
    "model_df = df[['unique_id','train_length', 'platform','Operator', 'is_delayed_arrival' ]]\n",
    "\n",
    "model_df = pd.merge(model_df, journey_times, left_on='unique_id', right_on='unique_id', how='left')\n",
    "model_df"
   ]
  },
  {
   "cell_type": "markdown",
   "metadata": {},
   "source": [
    "Dropping columns in model_df that are no longer needed for the model"
   ]
  },
  {
   "cell_type": "code",
   "execution_count": 66,
   "metadata": {},
   "outputs": [
    {
     "ename": "KeyError",
     "evalue": "\"['route_id', 'service_start_date', 'Origin', 'Destination', 'EarliestArrival', 'LatestArrival'] not found in axis\"",
     "output_type": "error",
     "traceback": [
      "\u001b[0;31m---------------------------------------------------------------------------\u001b[0m",
      "\u001b[0;31mKeyError\u001b[0m                                  Traceback (most recent call last)",
      "Cell \u001b[0;32mIn[66], line 1\u001b[0m\n\u001b[0;32m----> 1\u001b[0m model_df \u001b[38;5;241m=\u001b[39m \u001b[43mmodel_df\u001b[49m\u001b[38;5;241;43m.\u001b[39;49m\u001b[43mdrop\u001b[49m\u001b[43m(\u001b[49m\u001b[43mcolumns\u001b[49m\u001b[38;5;241;43m=\u001b[39;49m\u001b[43m[\u001b[49m\u001b[38;5;124;43m'\u001b[39;49m\u001b[38;5;124;43mroute_id\u001b[39;49m\u001b[38;5;124;43m'\u001b[39;49m\u001b[43m,\u001b[49m\u001b[38;5;124;43m'\u001b[39;49m\u001b[38;5;124;43mservice_start_date\u001b[39;49m\u001b[38;5;124;43m'\u001b[39;49m\u001b[43m,\u001b[49m\u001b[38;5;124;43m'\u001b[39;49m\u001b[38;5;124;43mOrigin\u001b[39;49m\u001b[38;5;124;43m'\u001b[39;49m\u001b[43m,\u001b[49m\u001b[38;5;124;43m\"\u001b[39;49m\u001b[38;5;124;43mDestination\u001b[39;49m\u001b[38;5;124;43m\"\u001b[39;49m\u001b[43m,\u001b[49m\u001b[38;5;124;43m'\u001b[39;49m\u001b[38;5;124;43mEarliestArrival\u001b[39;49m\u001b[38;5;124;43m'\u001b[39;49m\u001b[43m,\u001b[49m\u001b[38;5;124;43m'\u001b[39;49m\u001b[38;5;124;43mLatestArrival\u001b[39;49m\u001b[38;5;124;43m'\u001b[39;49m\u001b[43m]\u001b[49m\u001b[43m,\u001b[49m\u001b[43maxis\u001b[49m\u001b[38;5;241;43m=\u001b[39;49m\u001b[38;5;241;43m1\u001b[39;49m\u001b[43m)\u001b[49m\n\u001b[1;32m      2\u001b[0m model_df\n",
      "File \u001b[0;32m/opt/conda/lib/python3.11/site-packages/pandas/util/_decorators.py:331\u001b[0m, in \u001b[0;36mdeprecate_nonkeyword_arguments.<locals>.decorate.<locals>.wrapper\u001b[0;34m(*args, **kwargs)\u001b[0m\n\u001b[1;32m    325\u001b[0m \u001b[38;5;28;01mif\u001b[39;00m \u001b[38;5;28mlen\u001b[39m(args) \u001b[38;5;241m>\u001b[39m num_allow_args:\n\u001b[1;32m    326\u001b[0m     warnings\u001b[38;5;241m.\u001b[39mwarn(\n\u001b[1;32m    327\u001b[0m         msg\u001b[38;5;241m.\u001b[39mformat(arguments\u001b[38;5;241m=\u001b[39m_format_argument_list(allow_args)),\n\u001b[1;32m    328\u001b[0m         \u001b[38;5;167;01mFutureWarning\u001b[39;00m,\n\u001b[1;32m    329\u001b[0m         stacklevel\u001b[38;5;241m=\u001b[39mfind_stack_level(),\n\u001b[1;32m    330\u001b[0m     )\n\u001b[0;32m--> 331\u001b[0m \u001b[38;5;28;01mreturn\u001b[39;00m \u001b[43mfunc\u001b[49m\u001b[43m(\u001b[49m\u001b[38;5;241;43m*\u001b[39;49m\u001b[43margs\u001b[49m\u001b[43m,\u001b[49m\u001b[43m \u001b[49m\u001b[38;5;241;43m*\u001b[39;49m\u001b[38;5;241;43m*\u001b[39;49m\u001b[43mkwargs\u001b[49m\u001b[43m)\u001b[49m\n",
      "File \u001b[0;32m/opt/conda/lib/python3.11/site-packages/pandas/core/frame.py:5399\u001b[0m, in \u001b[0;36mDataFrame.drop\u001b[0;34m(self, labels, axis, index, columns, level, inplace, errors)\u001b[0m\n\u001b[1;32m   5251\u001b[0m \u001b[38;5;129m@deprecate_nonkeyword_arguments\u001b[39m(version\u001b[38;5;241m=\u001b[39m\u001b[38;5;28;01mNone\u001b[39;00m, allowed_args\u001b[38;5;241m=\u001b[39m[\u001b[38;5;124m\"\u001b[39m\u001b[38;5;124mself\u001b[39m\u001b[38;5;124m\"\u001b[39m, \u001b[38;5;124m\"\u001b[39m\u001b[38;5;124mlabels\u001b[39m\u001b[38;5;124m\"\u001b[39m])\n\u001b[1;32m   5252\u001b[0m \u001b[38;5;28;01mdef\u001b[39;00m \u001b[38;5;21mdrop\u001b[39m(  \u001b[38;5;66;03m# type: ignore[override]\u001b[39;00m\n\u001b[1;32m   5253\u001b[0m     \u001b[38;5;28mself\u001b[39m,\n\u001b[0;32m   (...)\u001b[0m\n\u001b[1;32m   5260\u001b[0m     errors: IgnoreRaise \u001b[38;5;241m=\u001b[39m \u001b[38;5;124m\"\u001b[39m\u001b[38;5;124mraise\u001b[39m\u001b[38;5;124m\"\u001b[39m,\n\u001b[1;32m   5261\u001b[0m ) \u001b[38;5;241m-\u001b[39m\u001b[38;5;241m>\u001b[39m DataFrame \u001b[38;5;241m|\u001b[39m \u001b[38;5;28;01mNone\u001b[39;00m:\n\u001b[1;32m   5262\u001b[0m \u001b[38;5;250m    \u001b[39m\u001b[38;5;124;03m\"\"\"\u001b[39;00m\n\u001b[1;32m   5263\u001b[0m \u001b[38;5;124;03m    Drop specified labels from rows or columns.\u001b[39;00m\n\u001b[1;32m   5264\u001b[0m \n\u001b[0;32m   (...)\u001b[0m\n\u001b[1;32m   5397\u001b[0m \u001b[38;5;124;03m            weight  1.0     0.8\u001b[39;00m\n\u001b[1;32m   5398\u001b[0m \u001b[38;5;124;03m    \"\"\"\u001b[39;00m\n\u001b[0;32m-> 5399\u001b[0m     \u001b[38;5;28;01mreturn\u001b[39;00m \u001b[38;5;28;43msuper\u001b[39;49m\u001b[43m(\u001b[49m\u001b[43m)\u001b[49m\u001b[38;5;241;43m.\u001b[39;49m\u001b[43mdrop\u001b[49m\u001b[43m(\u001b[49m\n\u001b[1;32m   5400\u001b[0m \u001b[43m        \u001b[49m\u001b[43mlabels\u001b[49m\u001b[38;5;241;43m=\u001b[39;49m\u001b[43mlabels\u001b[49m\u001b[43m,\u001b[49m\n\u001b[1;32m   5401\u001b[0m \u001b[43m        \u001b[49m\u001b[43maxis\u001b[49m\u001b[38;5;241;43m=\u001b[39;49m\u001b[43maxis\u001b[49m\u001b[43m,\u001b[49m\n\u001b[1;32m   5402\u001b[0m \u001b[43m        \u001b[49m\u001b[43mindex\u001b[49m\u001b[38;5;241;43m=\u001b[39;49m\u001b[43mindex\u001b[49m\u001b[43m,\u001b[49m\n\u001b[1;32m   5403\u001b[0m \u001b[43m        \u001b[49m\u001b[43mcolumns\u001b[49m\u001b[38;5;241;43m=\u001b[39;49m\u001b[43mcolumns\u001b[49m\u001b[43m,\u001b[49m\n\u001b[1;32m   5404\u001b[0m \u001b[43m        \u001b[49m\u001b[43mlevel\u001b[49m\u001b[38;5;241;43m=\u001b[39;49m\u001b[43mlevel\u001b[49m\u001b[43m,\u001b[49m\n\u001b[1;32m   5405\u001b[0m \u001b[43m        \u001b[49m\u001b[43minplace\u001b[49m\u001b[38;5;241;43m=\u001b[39;49m\u001b[43minplace\u001b[49m\u001b[43m,\u001b[49m\n\u001b[1;32m   5406\u001b[0m \u001b[43m        \u001b[49m\u001b[43merrors\u001b[49m\u001b[38;5;241;43m=\u001b[39;49m\u001b[43merrors\u001b[49m\u001b[43m,\u001b[49m\n\u001b[1;32m   5407\u001b[0m \u001b[43m    \u001b[49m\u001b[43m)\u001b[49m\n",
      "File \u001b[0;32m/opt/conda/lib/python3.11/site-packages/pandas/util/_decorators.py:331\u001b[0m, in \u001b[0;36mdeprecate_nonkeyword_arguments.<locals>.decorate.<locals>.wrapper\u001b[0;34m(*args, **kwargs)\u001b[0m\n\u001b[1;32m    325\u001b[0m \u001b[38;5;28;01mif\u001b[39;00m \u001b[38;5;28mlen\u001b[39m(args) \u001b[38;5;241m>\u001b[39m num_allow_args:\n\u001b[1;32m    326\u001b[0m     warnings\u001b[38;5;241m.\u001b[39mwarn(\n\u001b[1;32m    327\u001b[0m         msg\u001b[38;5;241m.\u001b[39mformat(arguments\u001b[38;5;241m=\u001b[39m_format_argument_list(allow_args)),\n\u001b[1;32m    328\u001b[0m         \u001b[38;5;167;01mFutureWarning\u001b[39;00m,\n\u001b[1;32m    329\u001b[0m         stacklevel\u001b[38;5;241m=\u001b[39mfind_stack_level(),\n\u001b[1;32m    330\u001b[0m     )\n\u001b[0;32m--> 331\u001b[0m \u001b[38;5;28;01mreturn\u001b[39;00m \u001b[43mfunc\u001b[49m\u001b[43m(\u001b[49m\u001b[38;5;241;43m*\u001b[39;49m\u001b[43margs\u001b[49m\u001b[43m,\u001b[49m\u001b[43m \u001b[49m\u001b[38;5;241;43m*\u001b[39;49m\u001b[38;5;241;43m*\u001b[39;49m\u001b[43mkwargs\u001b[49m\u001b[43m)\u001b[49m\n",
      "File \u001b[0;32m/opt/conda/lib/python3.11/site-packages/pandas/core/generic.py:4505\u001b[0m, in \u001b[0;36mNDFrame.drop\u001b[0;34m(self, labels, axis, index, columns, level, inplace, errors)\u001b[0m\n\u001b[1;32m   4503\u001b[0m \u001b[38;5;28;01mfor\u001b[39;00m axis, labels \u001b[38;5;129;01min\u001b[39;00m axes\u001b[38;5;241m.\u001b[39mitems():\n\u001b[1;32m   4504\u001b[0m     \u001b[38;5;28;01mif\u001b[39;00m labels \u001b[38;5;129;01mis\u001b[39;00m \u001b[38;5;129;01mnot\u001b[39;00m \u001b[38;5;28;01mNone\u001b[39;00m:\n\u001b[0;32m-> 4505\u001b[0m         obj \u001b[38;5;241m=\u001b[39m \u001b[43mobj\u001b[49m\u001b[38;5;241;43m.\u001b[39;49m\u001b[43m_drop_axis\u001b[49m\u001b[43m(\u001b[49m\u001b[43mlabels\u001b[49m\u001b[43m,\u001b[49m\u001b[43m \u001b[49m\u001b[43maxis\u001b[49m\u001b[43m,\u001b[49m\u001b[43m \u001b[49m\u001b[43mlevel\u001b[49m\u001b[38;5;241;43m=\u001b[39;49m\u001b[43mlevel\u001b[49m\u001b[43m,\u001b[49m\u001b[43m \u001b[49m\u001b[43merrors\u001b[49m\u001b[38;5;241;43m=\u001b[39;49m\u001b[43merrors\u001b[49m\u001b[43m)\u001b[49m\n\u001b[1;32m   4507\u001b[0m \u001b[38;5;28;01mif\u001b[39;00m inplace:\n\u001b[1;32m   4508\u001b[0m     \u001b[38;5;28mself\u001b[39m\u001b[38;5;241m.\u001b[39m_update_inplace(obj)\n",
      "File \u001b[0;32m/opt/conda/lib/python3.11/site-packages/pandas/core/generic.py:4546\u001b[0m, in \u001b[0;36mNDFrame._drop_axis\u001b[0;34m(self, labels, axis, level, errors, only_slice)\u001b[0m\n\u001b[1;32m   4544\u001b[0m         new_axis \u001b[38;5;241m=\u001b[39m axis\u001b[38;5;241m.\u001b[39mdrop(labels, level\u001b[38;5;241m=\u001b[39mlevel, errors\u001b[38;5;241m=\u001b[39merrors)\n\u001b[1;32m   4545\u001b[0m     \u001b[38;5;28;01melse\u001b[39;00m:\n\u001b[0;32m-> 4546\u001b[0m         new_axis \u001b[38;5;241m=\u001b[39m \u001b[43maxis\u001b[49m\u001b[38;5;241;43m.\u001b[39;49m\u001b[43mdrop\u001b[49m\u001b[43m(\u001b[49m\u001b[43mlabels\u001b[49m\u001b[43m,\u001b[49m\u001b[43m \u001b[49m\u001b[43merrors\u001b[49m\u001b[38;5;241;43m=\u001b[39;49m\u001b[43merrors\u001b[49m\u001b[43m)\u001b[49m\n\u001b[1;32m   4547\u001b[0m     indexer \u001b[38;5;241m=\u001b[39m axis\u001b[38;5;241m.\u001b[39mget_indexer(new_axis)\n\u001b[1;32m   4549\u001b[0m \u001b[38;5;66;03m# Case for non-unique axis\u001b[39;00m\n\u001b[1;32m   4550\u001b[0m \u001b[38;5;28;01melse\u001b[39;00m:\n",
      "File \u001b[0;32m/opt/conda/lib/python3.11/site-packages/pandas/core/indexes/base.py:6934\u001b[0m, in \u001b[0;36mIndex.drop\u001b[0;34m(self, labels, errors)\u001b[0m\n\u001b[1;32m   6932\u001b[0m \u001b[38;5;28;01mif\u001b[39;00m mask\u001b[38;5;241m.\u001b[39many():\n\u001b[1;32m   6933\u001b[0m     \u001b[38;5;28;01mif\u001b[39;00m errors \u001b[38;5;241m!=\u001b[39m \u001b[38;5;124m\"\u001b[39m\u001b[38;5;124mignore\u001b[39m\u001b[38;5;124m\"\u001b[39m:\n\u001b[0;32m-> 6934\u001b[0m         \u001b[38;5;28;01mraise\u001b[39;00m \u001b[38;5;167;01mKeyError\u001b[39;00m(\u001b[38;5;124mf\u001b[39m\u001b[38;5;124m\"\u001b[39m\u001b[38;5;132;01m{\u001b[39;00m\u001b[38;5;28mlist\u001b[39m(labels[mask])\u001b[38;5;132;01m}\u001b[39;00m\u001b[38;5;124m not found in axis\u001b[39m\u001b[38;5;124m\"\u001b[39m)\n\u001b[1;32m   6935\u001b[0m     indexer \u001b[38;5;241m=\u001b[39m indexer[\u001b[38;5;241m~\u001b[39mmask]\n\u001b[1;32m   6936\u001b[0m \u001b[38;5;28;01mreturn\u001b[39;00m \u001b[38;5;28mself\u001b[39m\u001b[38;5;241m.\u001b[39mdelete(indexer)\n",
      "\u001b[0;31mKeyError\u001b[0m: \"['route_id', 'service_start_date', 'Origin', 'Destination', 'EarliestArrival', 'LatestArrival'] not found in axis\""
     ]
    }
   ],
   "source": [
    "model_df = model_df.drop(columns=['route_id','service_start_date','Origin',\"Destination\",'EarliestArrival','LatestArrival','platform'],axis=1)\n",
    "model_df"
   ]
  },
  {
   "cell_type": "markdown",
   "metadata": {},
   "source": [
    "Creating Dummy Columns for Operator Values"
   ]
  },
  {
   "cell_type": "code",
   "execution_count": 82,
   "metadata": {},
   "outputs": [
    {
     "ename": "KeyError",
     "evalue": "\"None of [Index(['Operator'], dtype='object')] are in the [columns]\"",
     "output_type": "error",
     "traceback": [
      "\u001b[0;31m---------------------------------------------------------------------------\u001b[0m",
      "\u001b[0;31mKeyError\u001b[0m                                  Traceback (most recent call last)",
      "Cell \u001b[0;32mIn[82], line 1\u001b[0m\n\u001b[0;32m----> 1\u001b[0m model_df \u001b[38;5;241m=\u001b[39m \u001b[43mpd\u001b[49m\u001b[38;5;241;43m.\u001b[39;49m\u001b[43mget_dummies\u001b[49m\u001b[43m(\u001b[49m\u001b[43mmodel_df\u001b[49m\u001b[43m,\u001b[49m\u001b[43m \u001b[49m\u001b[43mcolumns\u001b[49m\u001b[38;5;241;43m=\u001b[39;49m\u001b[43m \u001b[49m\u001b[43m[\u001b[49m\u001b[38;5;124;43m'\u001b[39;49m\u001b[38;5;124;43mOperator\u001b[39;49m\u001b[38;5;124;43m'\u001b[39;49m\u001b[43m]\u001b[49m\u001b[43m,\u001b[49m\u001b[43mdtype\u001b[49m\u001b[38;5;241;43m=\u001b[39;49m\u001b[38;5;28;43mint\u001b[39;49m\u001b[43m)\u001b[49m\n\u001b[1;32m      2\u001b[0m model_df\u001b[38;5;241m.\u001b[39mhead()\n",
      "File \u001b[0;32m/opt/conda/lib/python3.11/site-packages/pandas/core/reshape/encoding.py:146\u001b[0m, in \u001b[0;36mget_dummies\u001b[0;34m(data, prefix, prefix_sep, dummy_na, columns, sparse, drop_first, dtype)\u001b[0m\n\u001b[1;32m    144\u001b[0m     \u001b[38;5;28;01mraise\u001b[39;00m \u001b[38;5;167;01mTypeError\u001b[39;00m(\u001b[38;5;124m\"\u001b[39m\u001b[38;5;124mInput must be a list-like for parameter `columns`\u001b[39m\u001b[38;5;124m\"\u001b[39m)\n\u001b[1;32m    145\u001b[0m \u001b[38;5;28;01melse\u001b[39;00m:\n\u001b[0;32m--> 146\u001b[0m     data_to_encode \u001b[38;5;241m=\u001b[39m \u001b[43mdata\u001b[49m\u001b[43m[\u001b[49m\u001b[43mcolumns\u001b[49m\u001b[43m]\u001b[49m\n\u001b[1;32m    148\u001b[0m \u001b[38;5;66;03m# validate prefixes and separator to avoid silently dropping cols\u001b[39;00m\n\u001b[1;32m    149\u001b[0m \u001b[38;5;28;01mdef\u001b[39;00m \u001b[38;5;21mcheck_len\u001b[39m(item, name):\n",
      "File \u001b[0;32m/opt/conda/lib/python3.11/site-packages/pandas/core/frame.py:3813\u001b[0m, in \u001b[0;36mDataFrame.__getitem__\u001b[0;34m(self, key)\u001b[0m\n\u001b[1;32m   3811\u001b[0m     \u001b[38;5;28;01mif\u001b[39;00m is_iterator(key):\n\u001b[1;32m   3812\u001b[0m         key \u001b[38;5;241m=\u001b[39m \u001b[38;5;28mlist\u001b[39m(key)\n\u001b[0;32m-> 3813\u001b[0m     indexer \u001b[38;5;241m=\u001b[39m \u001b[38;5;28;43mself\u001b[39;49m\u001b[38;5;241;43m.\u001b[39;49m\u001b[43mcolumns\u001b[49m\u001b[38;5;241;43m.\u001b[39;49m\u001b[43m_get_indexer_strict\u001b[49m\u001b[43m(\u001b[49m\u001b[43mkey\u001b[49m\u001b[43m,\u001b[49m\u001b[43m \u001b[49m\u001b[38;5;124;43m\"\u001b[39;49m\u001b[38;5;124;43mcolumns\u001b[39;49m\u001b[38;5;124;43m\"\u001b[39;49m\u001b[43m)\u001b[49m[\u001b[38;5;241m1\u001b[39m]\n\u001b[1;32m   3815\u001b[0m \u001b[38;5;66;03m# take() does not accept boolean indexers\u001b[39;00m\n\u001b[1;32m   3816\u001b[0m \u001b[38;5;28;01mif\u001b[39;00m \u001b[38;5;28mgetattr\u001b[39m(indexer, \u001b[38;5;124m\"\u001b[39m\u001b[38;5;124mdtype\u001b[39m\u001b[38;5;124m\"\u001b[39m, \u001b[38;5;28;01mNone\u001b[39;00m) \u001b[38;5;241m==\u001b[39m \u001b[38;5;28mbool\u001b[39m:\n",
      "File \u001b[0;32m/opt/conda/lib/python3.11/site-packages/pandas/core/indexes/base.py:6070\u001b[0m, in \u001b[0;36mIndex._get_indexer_strict\u001b[0;34m(self, key, axis_name)\u001b[0m\n\u001b[1;32m   6067\u001b[0m \u001b[38;5;28;01melse\u001b[39;00m:\n\u001b[1;32m   6068\u001b[0m     keyarr, indexer, new_indexer \u001b[38;5;241m=\u001b[39m \u001b[38;5;28mself\u001b[39m\u001b[38;5;241m.\u001b[39m_reindex_non_unique(keyarr)\n\u001b[0;32m-> 6070\u001b[0m \u001b[38;5;28;43mself\u001b[39;49m\u001b[38;5;241;43m.\u001b[39;49m\u001b[43m_raise_if_missing\u001b[49m\u001b[43m(\u001b[49m\u001b[43mkeyarr\u001b[49m\u001b[43m,\u001b[49m\u001b[43m \u001b[49m\u001b[43mindexer\u001b[49m\u001b[43m,\u001b[49m\u001b[43m \u001b[49m\u001b[43maxis_name\u001b[49m\u001b[43m)\u001b[49m\n\u001b[1;32m   6072\u001b[0m keyarr \u001b[38;5;241m=\u001b[39m \u001b[38;5;28mself\u001b[39m\u001b[38;5;241m.\u001b[39mtake(indexer)\n\u001b[1;32m   6073\u001b[0m \u001b[38;5;28;01mif\u001b[39;00m \u001b[38;5;28misinstance\u001b[39m(key, Index):\n\u001b[1;32m   6074\u001b[0m     \u001b[38;5;66;03m# GH 42790 - Preserve name from an Index\u001b[39;00m\n",
      "File \u001b[0;32m/opt/conda/lib/python3.11/site-packages/pandas/core/indexes/base.py:6130\u001b[0m, in \u001b[0;36mIndex._raise_if_missing\u001b[0;34m(self, key, indexer, axis_name)\u001b[0m\n\u001b[1;32m   6128\u001b[0m     \u001b[38;5;28;01mif\u001b[39;00m use_interval_msg:\n\u001b[1;32m   6129\u001b[0m         key \u001b[38;5;241m=\u001b[39m \u001b[38;5;28mlist\u001b[39m(key)\n\u001b[0;32m-> 6130\u001b[0m     \u001b[38;5;28;01mraise\u001b[39;00m \u001b[38;5;167;01mKeyError\u001b[39;00m(\u001b[38;5;124mf\u001b[39m\u001b[38;5;124m\"\u001b[39m\u001b[38;5;124mNone of [\u001b[39m\u001b[38;5;132;01m{\u001b[39;00mkey\u001b[38;5;132;01m}\u001b[39;00m\u001b[38;5;124m] are in the [\u001b[39m\u001b[38;5;132;01m{\u001b[39;00maxis_name\u001b[38;5;132;01m}\u001b[39;00m\u001b[38;5;124m]\u001b[39m\u001b[38;5;124m\"\u001b[39m)\n\u001b[1;32m   6132\u001b[0m not_found \u001b[38;5;241m=\u001b[39m \u001b[38;5;28mlist\u001b[39m(ensure_index(key)[missing_mask\u001b[38;5;241m.\u001b[39mnonzero()[\u001b[38;5;241m0\u001b[39m]]\u001b[38;5;241m.\u001b[39munique())\n\u001b[1;32m   6133\u001b[0m \u001b[38;5;28;01mraise\u001b[39;00m \u001b[38;5;167;01mKeyError\u001b[39;00m(\u001b[38;5;124mf\u001b[39m\u001b[38;5;124m\"\u001b[39m\u001b[38;5;132;01m{\u001b[39;00mnot_found\u001b[38;5;132;01m}\u001b[39;00m\u001b[38;5;124m not in index\u001b[39m\u001b[38;5;124m\"\u001b[39m)\n",
      "\u001b[0;31mKeyError\u001b[0m: \"None of [Index(['Operator'], dtype='object')] are in the [columns]\""
     ]
    }
   ],
   "source": [
    "model_df = pd.get_dummies(model_df, columns= ['Operator'],dtype=int)\n",
    "model_df.head()"
   ]
  },
  {
   "cell_type": "markdown",
   "metadata": {},
   "source": [
    "Splitting the data into the training and test sets"
   ]
  },
  {
   "cell_type": "code",
   "execution_count": 71,
   "metadata": {},
   "outputs": [],
   "source": [
    "from sklearn.model_selection import train_test_split\n",
    "# separate features and target\n",
    "X = model_df.drop(\"is_delayed_arrival\", axis=1)\n",
    "y = model_df[\"is_delayed_arrival\"]\n",
    "\n",
    "# split data into training set and test set\n",
    "X_train, X_test, y_train, y_test = train_test_split(X, y, test_size=0.33, random_state=12)"
   ]
  },
  {
   "cell_type": "markdown",
   "metadata": {},
   "source": [
    "Creating the model"
   ]
  },
  {
   "cell_type": "code",
   "execution_count": 72,
   "metadata": {},
   "outputs": [
    {
     "data": {
      "text/html": [
       "<style>#sk-container-id-1 {color: black;}#sk-container-id-1 pre{padding: 0;}#sk-container-id-1 div.sk-toggleable {background-color: white;}#sk-container-id-1 label.sk-toggleable__label {cursor: pointer;display: block;width: 100%;margin-bottom: 0;padding: 0.3em;box-sizing: border-box;text-align: center;}#sk-container-id-1 label.sk-toggleable__label-arrow:before {content: \"▸\";float: left;margin-right: 0.25em;color: #696969;}#sk-container-id-1 label.sk-toggleable__label-arrow:hover:before {color: black;}#sk-container-id-1 div.sk-estimator:hover label.sk-toggleable__label-arrow:before {color: black;}#sk-container-id-1 div.sk-toggleable__content {max-height: 0;max-width: 0;overflow: hidden;text-align: left;background-color: #f0f8ff;}#sk-container-id-1 div.sk-toggleable__content pre {margin: 0.2em;color: black;border-radius: 0.25em;background-color: #f0f8ff;}#sk-container-id-1 input.sk-toggleable__control:checked~div.sk-toggleable__content {max-height: 200px;max-width: 100%;overflow: auto;}#sk-container-id-1 input.sk-toggleable__control:checked~label.sk-toggleable__label-arrow:before {content: \"▾\";}#sk-container-id-1 div.sk-estimator input.sk-toggleable__control:checked~label.sk-toggleable__label {background-color: #d4ebff;}#sk-container-id-1 div.sk-label input.sk-toggleable__control:checked~label.sk-toggleable__label {background-color: #d4ebff;}#sk-container-id-1 input.sk-hidden--visually {border: 0;clip: rect(1px 1px 1px 1px);clip: rect(1px, 1px, 1px, 1px);height: 1px;margin: -1px;overflow: hidden;padding: 0;position: absolute;width: 1px;}#sk-container-id-1 div.sk-estimator {font-family: monospace;background-color: #f0f8ff;border: 1px dotted black;border-radius: 0.25em;box-sizing: border-box;margin-bottom: 0.5em;}#sk-container-id-1 div.sk-estimator:hover {background-color: #d4ebff;}#sk-container-id-1 div.sk-parallel-item::after {content: \"\";width: 100%;border-bottom: 1px solid gray;flex-grow: 1;}#sk-container-id-1 div.sk-label:hover label.sk-toggleable__label {background-color: #d4ebff;}#sk-container-id-1 div.sk-serial::before {content: \"\";position: absolute;border-left: 1px solid gray;box-sizing: border-box;top: 0;bottom: 0;left: 50%;z-index: 0;}#sk-container-id-1 div.sk-serial {display: flex;flex-direction: column;align-items: center;background-color: white;padding-right: 0.2em;padding-left: 0.2em;position: relative;}#sk-container-id-1 div.sk-item {position: relative;z-index: 1;}#sk-container-id-1 div.sk-parallel {display: flex;align-items: stretch;justify-content: center;background-color: white;position: relative;}#sk-container-id-1 div.sk-item::before, #sk-container-id-1 div.sk-parallel-item::before {content: \"\";position: absolute;border-left: 1px solid gray;box-sizing: border-box;top: 0;bottom: 0;left: 50%;z-index: -1;}#sk-container-id-1 div.sk-parallel-item {display: flex;flex-direction: column;z-index: 1;position: relative;background-color: white;}#sk-container-id-1 div.sk-parallel-item:first-child::after {align-self: flex-end;width: 50%;}#sk-container-id-1 div.sk-parallel-item:last-child::after {align-self: flex-start;width: 50%;}#sk-container-id-1 div.sk-parallel-item:only-child::after {width: 0;}#sk-container-id-1 div.sk-dashed-wrapped {border: 1px dashed gray;margin: 0 0.4em 0.5em 0.4em;box-sizing: border-box;padding-bottom: 0.4em;background-color: white;}#sk-container-id-1 div.sk-label label {font-family: monospace;font-weight: bold;display: inline-block;line-height: 1.2em;}#sk-container-id-1 div.sk-label-container {text-align: center;}#sk-container-id-1 div.sk-container {/* jupyter's `normalize.less` sets `[hidden] { display: none; }` but bootstrap.min.css set `[hidden] { display: none !important; }` so we also need the `!important` here to be able to override the default hidden behavior on the sphinx rendered scikit-learn.org. See: https://github.com/scikit-learn/scikit-learn/issues/21755 */display: inline-block !important;position: relative;}#sk-container-id-1 div.sk-text-repr-fallback {display: none;}</style><div id=\"sk-container-id-1\" class=\"sk-top-container\"><div class=\"sk-text-repr-fallback\"><pre>Pipeline(steps=[(&#x27;standardscaler&#x27;, StandardScaler()),\n",
       "                (&#x27;logisticregression&#x27;, LogisticRegression(solver=&#x27;liblinear&#x27;))])</pre><b>In a Jupyter environment, please rerun this cell to show the HTML representation or trust the notebook. <br />On GitHub, the HTML representation is unable to render, please try loading this page with nbviewer.org.</b></div><div class=\"sk-container\" hidden><div class=\"sk-item sk-dashed-wrapped\"><div class=\"sk-label-container\"><div class=\"sk-label sk-toggleable\"><input class=\"sk-toggleable__control sk-hidden--visually\" id=\"sk-estimator-id-1\" type=\"checkbox\" ><label for=\"sk-estimator-id-1\" class=\"sk-toggleable__label sk-toggleable__label-arrow\">Pipeline</label><div class=\"sk-toggleable__content\"><pre>Pipeline(steps=[(&#x27;standardscaler&#x27;, StandardScaler()),\n",
       "                (&#x27;logisticregression&#x27;, LogisticRegression(solver=&#x27;liblinear&#x27;))])</pre></div></div></div><div class=\"sk-serial\"><div class=\"sk-item\"><div class=\"sk-estimator sk-toggleable\"><input class=\"sk-toggleable__control sk-hidden--visually\" id=\"sk-estimator-id-2\" type=\"checkbox\" ><label for=\"sk-estimator-id-2\" class=\"sk-toggleable__label sk-toggleable__label-arrow\">StandardScaler</label><div class=\"sk-toggleable__content\"><pre>StandardScaler()</pre></div></div></div><div class=\"sk-item\"><div class=\"sk-estimator sk-toggleable\"><input class=\"sk-toggleable__control sk-hidden--visually\" id=\"sk-estimator-id-3\" type=\"checkbox\" ><label for=\"sk-estimator-id-3\" class=\"sk-toggleable__label sk-toggleable__label-arrow\">LogisticRegression</label><div class=\"sk-toggleable__content\"><pre>LogisticRegression(solver=&#x27;liblinear&#x27;)</pre></div></div></div></div></div></div></div>"
      ],
      "text/plain": [
       "Pipeline(steps=[('standardscaler', StandardScaler()),\n",
       "                ('logisticregression', LogisticRegression(solver='liblinear'))])"
      ]
     },
     "execution_count": 72,
     "metadata": {},
     "output_type": "execute_result"
    }
   ],
   "source": [
    "from sklearn.datasets import make_classification\n",
    "from sklearn.linear_model import LogisticRegression\n",
    "from sklearn.model_selection import train_test_split\n",
    "from sklearn.pipeline import make_pipeline\n",
    "from sklearn.preprocessing import StandardScaler\n",
    "\n",
    "pipe = make_pipeline(StandardScaler(), LogisticRegression(solver='liblinear'))\n",
    "pipe.fit(X_train, y_train)  # apply scaling on training data\n"
   ]
  },
  {
   "cell_type": "markdown",
   "metadata": {},
   "source": [
    "Running the model and printing the accuracy"
   ]
  },
  {
   "cell_type": "code",
   "execution_count": 73,
   "metadata": {},
   "outputs": [
    {
     "data": {
      "text/plain": [
       "0.9124614894295123"
      ]
     },
     "execution_count": 73,
     "metadata": {},
     "output_type": "execute_result"
    }
   ],
   "source": [
    "from sklearn.metrics import accuracy_score\n",
    "from sklearn.metrics import classification_report\n",
    "\n",
    "y_pred = pipe.predict(X_test)\n",
    "accuracy_score(y_pred, y_test)"
   ]
  },
  {
   "cell_type": "markdown",
   "metadata": {},
   "source": [
    "The model was 91.25% correct in predictions.\n",
    "Next, printing the classification report."
   ]
  },
  {
   "cell_type": "code",
   "execution_count": 77,
   "metadata": {},
   "outputs": [
    {
     "name": "stdout",
     "output_type": "stream",
     "text": [
      "              precision    recall  f1-score   support\n",
      "\n",
      "       False       0.91      1.00      0.95     68712\n",
      "        True       0.00      0.00      0.00      6592\n",
      "\n",
      "    accuracy                           0.91     75304\n",
      "   macro avg       0.46      0.50      0.48     75304\n",
      "weighted avg       0.83      0.91      0.87     75304\n",
      "\n"
     ]
    }
   ],
   "source": [
    "predictions = pipe.predict(X_test)\n",
    "\n",
    "print(classification_report(y_test, predictions))"
   ]
  },
  {
   "cell_type": "markdown",
   "metadata": {},
   "source": [
    "Creating a graph to show the impact of the different variables on prediction"
   ]
  },
  {
   "cell_type": "code",
   "execution_count": 80,
   "metadata": {},
   "outputs": [
    {
     "data": {
      "image/png": "[encoded data removed]",
      "text/plain": [
       "<Figure size 1000x2000 with 1 Axes>"
      ]
     },
     "metadata": {},
     "output_type": "display_data"
    }
   ],
   "source": [
    "# Get the model from the pipeline\n",
    "model = pipe.named_steps['logisticregression']\n",
    "\n",
    "# Get feature names from the DataFrame\n",
    "feature_names = X.columns\n",
    "\n",
    "# Get the coefficients of the logistic regression model\n",
    "coefficients = model.coef_[0]\n",
    "\n",
    "# Create a DataFrame for easy handling\n",
    "coef_df = pd.DataFrame({\n",
    "    'Feature': feature_names,\n",
    "    'Coefficient': coefficients,\n",
    "})\n",
    "\n",
    "# Sort by the absolute values of the coefficients\n",
    "coef_df = coef_df.reindex(coef_df.Coefficient.abs().sort_values(ascending=False).index)\n",
    "\n",
    "# Plot\n",
    "plt.figure(figsize=(10, 20))\n",
    "plt.barh(coef_df['Feature'], coef_df['Coefficient'], color='b')\n",
    "plt.xlabel('Coefficient')\n",
    "plt.ylabel('Feature')\n",
    "plt.title('Feature Importance (Logistic Regression Coefficients)')\n",
    "plt.show()\n"
   ]
  },
  {
   "cell_type": "markdown",
   "metadata": {},
   "source": [
    "As seen in the graph, Journey_Time seems to have the highest coefficent to delayed arrival, while Operator_c2c has the lowest coefficent meaning that Journey_Time has a high impact on delay chances."
   ]
  },
  {
   "cell_type": "markdown",
   "metadata": {},
   "source": [
    "## 3. Data Visualization"
   ]
  },
  {
   "cell_type": "code",
   "execution_count": 75,
   "metadata": {},
   "outputs": [],
   "source": [
    "#importing libraries\n",
    "import matplotlib.pyplot as plt\n",
    "import seaborn as sns"
   ]
  },
  {
   "cell_type": "markdown",
   "metadata": {},
   "source": [
    "### Distribution of Categorical and Numerical Data\n"
   ]
  },
  {
   "cell_type": "markdown",
   "metadata": {},
   "source": [
    "#### Numerical Data"
   ]
  },
  {
   "cell_type": "code",
   "execution_count": null,
   "metadata": {},
   "outputs": [],
   "source": [
    "numerical_cols = ['planned_time_arrival', 'planned_time_departure', 'actual_arrival_time', 'actual_departure_time', \n",
    "                  'delayed_arrival_min', 'delayed_departure_min']\n",
    "subplot_index = 1\n",
    "for col in numerical_cols:\n",
    "    plt.figure(figsize=(16, 25))\n",
    "    plt.subplot(len(numerical_cols),1,subplot_index)\n",
    "    sns.histplot(df[col], bins=7)\n",
    "    plt.title(f'Distribution of {col}')\n",
    "    plt.show()"
   ]
  },
  {
   "cell_type": "markdown",
   "metadata": {},
   "source": [
    "#### Categorical data"
   ]
  },
  {
   "cell_type": "code",
   "execution_count": null,
   "metadata": {},
   "outputs": [],
   "source": [
    "categorical_cols = ['is_delayed_arrival', 'is_delayed_departure','service_start_date']\n",
    "#histograms for categorical variables\n",
    "subplot_index = 1\n",
    "for col in categorical_cols:\n",
    "    plt.figure(figsize=(16, 20))\n",
    "    plt.subplot(len(categorical_cols),1,subplot_index)\n",
    "    sns.countplot(x=col, data=df)\n",
    "    plt.title(f'Distribution of {col}')\n",
    "    plt.xticks(rotation = 20)\n",
    "    plt.show()"
   ]
  },
  {
   "cell_type": "markdown",
   "metadata": {},
   "source": [
    "### What is the distribution of if there is an actual delay in arrival and departure?"
   ]
  },
  {
   "cell_type": "code",
   "execution_count": null,
   "metadata": {},
   "outputs": [],
   "source": [
    "#creating a df with only delayed arrival trains\n",
    "delayed_arrivals = df[df['is_delayed_arrival'] == True]\n",
    "# Plotting the histogram using matplotlib\n",
    "plt.hist(delayed_arrivals['delayed_arrival_min'], bins=5)\n",
    "\n",
    "# Adding titles and labels\n",
    "plt.title('Arrival Minutes Delayed Among Delayed Trips')\n",
    "plt.xlabel('Arrival Delay (Minutes)')\n",
    "plt.ylabel('Frequency')\n",
    "plt.show()"
   ]
  },
  {
   "cell_type": "code",
   "execution_count": null,
   "metadata": {},
   "outputs": [],
   "source": [
    "#creating a df with only delayed departure trains\n",
    "delayed_departures = df[df['is_delayed_departure'] == True]\n",
    "# Plotting the histogram using matplotlib\n",
    "plt.hist(delayed_arrivals['delayed_departure_min'], bins=5)\n",
    "\n",
    "# Adding titles and labels\n",
    "plt.title('Departure Minutes Delayed Among Delayed Trips')\n",
    "plt.xlabel('Departure Delay (Minutes)')\n",
    "plt.ylabel('Frequency')\n",
    "plt.show()"
   ]
  },
  {
   "cell_type": "markdown",
   "metadata": {},
   "source": [
    "### Correlation Analysis among numerical data"
   ]
  },
  {
   "cell_type": "code",
   "execution_count": null,
   "metadata": {},
   "outputs": [],
   "source": [
    "df1 = df[['train_length', 'delayed_arrival_min', 'delayed_departure_min', 'Latitude', 'Longitude']]\n",
    "corr_matrix = df1.corr()\n",
    "\n",
    "# Create a correlation heatmap\n",
    "plt.figure(figsize=(5, 5))\n",
    "sns.heatmap(corr_matrix, annot=True, cmap='Blues', fmt='.2f', linewidths=0.5)\n",
    "plt.title('Correlation Between Numerical Data')\n",
    "plt.show()"
   ]
  },
  {
   "cell_type": "markdown",
   "metadata": {},
   "source": [
    "We found an absolute correlation between arrival delay and departure delay and decided to make a scatter plot to visualize the impact of Departure Delay on Arrival time."
   ]
  },
  {
   "cell_type": "code",
   "execution_count": null,
   "metadata": {},
   "outputs": [],
   "source": [
    "plt.figure(figsize=(10,6))\n",
    "plt.scatter(df['delayed_departure_min'], df['delayed_arrival_min'], alpha=0.5)\n",
    "plt.xlabel('Departure Delay (Minutes)')\n",
    "plt.ylabel('Arrival Delay (Minutes)')\n",
    "plt.title('Impact of Departure Delay on Arrival Delay')\n",
    "plt.show()"
   ]
  },
  {
   "cell_type": "markdown",
   "metadata": {},
   "source": [
    "This strong correlation of 1.00 shows that departure delay is significantly impacting the arrival time."
   ]
  },
  {
   "cell_type": "markdown",
   "metadata": {},
   "source": [
    "### 4. Analysis"
   ]
  },
  {
   "cell_type": "markdown",
   "metadata": {},
   "source": [
    "Gathered external data to find insights for our questions.\n",
    "\n",
    "Source: https://dataportal.orr.gov.uk/"
   ]
  },
  {
   "cell_type": "markdown",
   "metadata": {},
   "source": [
    "### 1. Which stations are the most Busiest accessed by public? "
   ]
  },
  {
   "cell_type": "code",
   "execution_count": null,
   "metadata": {},
   "outputs": [],
   "source": [
    "df2 = pd.read_excel(r'./Data/2.Passenger_population_station_TOC_2023.xlsx')"
   ]
  },
  {
   "cell_type": "code",
   "execution_count": null,
   "metadata": {},
   "outputs": [],
   "source": [
    "df2.head()"
   ]
  },
  {
   "cell_type": "code",
   "execution_count": null,
   "metadata": {},
   "outputs": [],
   "source": [
    "df2['StationName'] = df2['StationName'] + ' Rail Station'\n",
    "df2['StationName']"
   ]
  },
  {
   "cell_type": "code",
   "execution_count": null,
   "metadata": {},
   "outputs": [],
   "source": [
    "#plot here\n",
    "#sort by top 10 or 20 stations according to the plot output\n",
    "df2_sorted = df2.sort_values(by='Entry_exit_population', ascending=False).head(10)\n",
    "\n",
    "plt.figure(figsize=(30,10))\n",
    "plt.bar(df2_sorted['StationName'],df2_sorted['Entry_exit_population'])\n",
    "plt.title('Top 10 Busiest Stations by Passenger Population')\n",
    "plt.xlabel('Station Name')\n",
    "plt.ylabel('Passenger Population')\n",
    "plt.show()"
   ]
  },
  {
   "cell_type": "markdown",
   "metadata": {},
   "source": [
    "### 2. Which is the Busiest Region Accessed By the Public?"
   ]
  },
  {
   "cell_type": "code",
   "execution_count": null,
   "metadata": {},
   "outputs": [],
   "source": [
    "#Use the same dataframe as above\n",
    "df2_busy_regions = df2.groupby('Region')['Entry_exit_population'].sum().reset_index()\n",
    "\n",
    "plt.figure(figsize=(24,12))\n",
    "plt.bar(df2_busy_regions['Region'], df2_busy_regions['Entry_exit_population'])\n",
    "plt.title('Passenger Population by Region')\n",
    "plt.xlabel('Region')\n",
    "plt.ylabel('Passenger Population')\n",
    "plt.show()"
   ]
  },
  {
   "cell_type": "markdown",
   "metadata": {},
   "source": [
    "### 3. Which Railway Operators are controlling more stations?"
   ]
  },
  {
   "cell_type": "code",
   "execution_count": null,
   "metadata": {},
   "outputs": [],
   "source": [
    "df3 = pd.read_excel(r'./Data/1.Train_Operating_Company_Stations_list_2023.xlsx')"
   ]
  },
  {
   "cell_type": "code",
   "execution_count": null,
   "metadata": {},
   "outputs": [],
   "source": [
    "df3.head()"
   ]
  },
  {
   "cell_type": "code",
   "execution_count": null,
   "metadata": {},
   "outputs": [],
   "source": [
    "\n",
    "#plot here\n",
    "#sort descending\n",
    "df3_sorted = df3.sort_values(by='Stations_associated(As of 31 March 2023)', ascending=False).head(10)\n",
    "\n",
    "plt.figure(figsize=(24,6))\n",
    "plt.bar(df3_sorted['Operator'],df3_sorted['Stations_associated(As of 31 March 2023)'])\n",
    "plt.title('Operators with the Most Stations')\n",
    "plt.xlabel('Operator')\n",
    "plt.ylabel('Number of Associated Stations')\n",
    "plt.show()"
   ]
  },
  {
   "cell_type": "markdown",
   "metadata": {},
   "source": [
    "### 4. Railways usage by Public over the years"
   ]
  },
  {
   "cell_type": "code",
   "execution_count": null,
   "metadata": {},
   "outputs": [],
   "source": [
    "df4 = pd.read_excel(r'./Data/4.Passenger_population_1997_2023Mar.xlsx')"
   ]
  },
  {
   "cell_type": "code",
   "execution_count": null,
   "metadata": {},
   "outputs": [],
   "source": [
    "df4.head()"
   ]
  },
  {
   "cell_type": "code",
   "execution_count": null,
   "metadata": {},
   "outputs": [],
   "source": [
    "#data cleaning to be done before plotting"
   ]
  },
  {
   "cell_type": "code",
   "execution_count": null,
   "metadata": {},
   "outputs": [],
   "source": [
    "df4.info()"
   ]
  },
  {
   "cell_type": "code",
   "execution_count": null,
   "metadata": {},
   "outputs": [],
   "source": []
  },
  {
   "cell_type": "code",
   "execution_count": null,
   "metadata": {},
   "outputs": [],
   "source": []
  },
  {
   "cell_type": "code",
   "execution_count": null,
   "metadata": {},
   "outputs": [],
   "source": []
  },
  {
   "cell_type": "code",
   "execution_count": null,
   "metadata": {},
   "outputs": [],
   "source": []
  }
 ],
 "metadata": {
  "kernelspec": {
   "display_name": "Python 3 (ipykernel)",
   "language": "python",
   "name": "python3"
  },
  "language_info": {
   "codemirror_mode": {
    "name": "ipython",
    "version": 3
   },
   "file_extension": ".py",
   "mimetype": "text/x-python",
   "name": "python",
   "nbconvert_exporter": "python",
   "pygments_lexer": "ipython3",
   "version": "3.11.6"
  }
 },
 "nbformat": 4,
 "nbformat_minor": 4
}
