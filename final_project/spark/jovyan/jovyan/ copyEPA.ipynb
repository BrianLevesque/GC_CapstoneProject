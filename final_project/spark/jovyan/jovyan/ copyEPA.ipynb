{
 "cells": [
  {
   "cell_type": "markdown",
   "id": "07beae87",
   "metadata": {},
   "source": [
    "# 1. Ingest and Access Data"
   ]
  },
  {
   "cell_type": "code",
   "execution_count": null,
   "id": "90e19e10",
   "metadata": {},
   "outputs": [],
   "source": [
    "import pandas as pd\n",
    "import numpy as np\n",
    "\n",
    "df = pd.read_csv('')\n",
    "df = pd.read_excel('') # skiprows=4, usecols= range(1,14) insert in argument if you have blank rows or columns"
   ]
  },
  {
   "cell_type": "markdown",
   "id": "c7eb10d8",
   "metadata": {},
   "source": [
    "Take a quick look at the headings and data. Pull column names if desired."
   ]
  },
  {
   "cell_type": "code",
   "execution_count": null,
   "id": "60d3be9e",
   "metadata": {},
   "outputs": [],
   "source": [
    "df.head()\n",
    "col_list = df.columns.to_list()"
   ]
  },
  {
   "cell_type": "markdown",
   "id": "afb113dc",
   "metadata": {},
   "source": [
    "Evaluate the information in the dataframe. Start making a plan of what to do next."
   ]
  },
  {
   "cell_type": "code",
   "execution_count": null,
   "id": "0537aecd",
   "metadata": {},
   "outputs": [],
   "source": [
    "df.info()"
   ]
  },
  {
   "cell_type": "code",
   "execution_count": null,
   "id": "4db790b3",
   "metadata": {},
   "outputs": [],
   "source": [
    "df.describe()"
   ]
  },
  {
   "cell_type": "code",
   "execution_count": null,
   "id": "94d8f9de",
   "metadata": {},
   "outputs": [],
   "source": [
    "# Deeper dive on a specific column\n",
    "df['Column Name'].value_counts()"
   ]
  },
  {
   "cell_type": "markdown",
   "id": "3ff2d741",
   "metadata": {},
   "source": [
    "Are there nulls or duplicates?"
   ]
  },
  {
   "cell_type": "code",
   "execution_count": null,
   "id": "fbc2b5b6",
   "metadata": {},
   "outputs": [],
   "source": [
    "df.isna().sum()"
   ]
  },
  {
   "cell_type": "code",
   "execution_count": null,
   "id": "42b19566",
   "metadata": {},
   "outputs": [],
   "source": [
    "df.duplicated().sum()"
   ]
  },
  {
   "cell_type": "markdown",
   "id": "eed43cdd",
   "metadata": {},
   "source": [
    "# 2. Clean Data\n",
    "Establish another dataframe to work from."
   ]
  },
  {
   "cell_type": "code",
   "execution_count": null,
   "id": "c7335621",
   "metadata": {},
   "outputs": [],
   "source": [
    "df_clean = df"
   ]
  },
  {
   "cell_type": "markdown",
   "id": "474cba8d",
   "metadata": {},
   "source": [
    "### a. Handle Missing Values\n",
    "- What does it look like to drop all nulls?\n",
    "- Are there any columns with lots of missing data? Can we remove them?\n",
    "- In numeric columns, can we replace the missing data with the mean or median? (Based on the distribution)"
   ]
  },
  {
   "cell_type": "code",
   "execution_count": null,
   "id": "2f3d07ee",
   "metadata": {},
   "outputs": [],
   "source": [
    "# Drop all nulls info\n",
    "df_clean.dropna().info() "
   ]
  },
  {
   "cell_type": "code",
   "execution_count": null,
   "id": "0e1a35c5",
   "metadata": {},
   "outputs": [],
   "source": [
    "# Drop a column\n",
    "df_clean = df_clean.drop('Column Name', axis=1)"
   ]
  },
  {
   "cell_type": "code",
   "execution_count": null,
   "id": "575d1557",
   "metadata": {},
   "outputs": [],
   "source": [
    "# Fill a column with the mean or median\n",
    "df_clean[\"Column Name\"] = df_clean['Column Name'].fillna( df_clean['Column Name'].mean() ) #or .median()"
   ]
  },
  {
   "cell_type": "markdown",
   "id": "4f894f7e",
   "metadata": {},
   "source": [
    "### b. Do we need to handle any duplicates?"
   ]
  },
  {
   "cell_type": "code",
   "execution_count": null,
   "id": "853db460",
   "metadata": {},
   "outputs": [],
   "source": [
    "df_clean = df_clean.drop_duplicates()"
   ]
  },
  {
   "cell_type": "markdown",
   "id": "63a95f49",
   "metadata": {},
   "source": [
    "### c. Erroneous Values\n",
    "- Are there any values that don't make sense?\n",
    "- Gather more context for data if needed."
   ]
  },
  {
   "cell_type": "code",
   "execution_count": null,
   "id": "94accea9",
   "metadata": {},
   "outputs": [],
   "source": []
  },
  {
   "cell_type": "markdown",
   "id": "664494c1",
   "metadata": {},
   "source": [
    "### d. Handle Outliers\n",
    "- This should handle anything we didn't catch in the previous step."
   ]
  },
  {
   "cell_type": "code",
   "execution_count": null,
   "id": "2cad027f",
   "metadata": {},
   "outputs": [],
   "source": [
    "import statistics as stats\n",
    "\n",
    "# outlier function\n",
    "def outliers_IQR (column):\n",
    "    Q1 = column.quantile(.25)\n",
    "    Q3 = column.quantile(.75)\n",
    "    IQR = Q3 - Q1\n",
    "    lower_bound = Q1 - 1.5*IQR\n",
    "    upper_bound = Q3 + 1.5*IQR\n",
    "    outliers = (column < lower_bound) | (column > upper_bound)\n",
    "    return outliers \n",
    "\n",
    "# apply function\n",
    "df_clean['Column Name'] = outliers_IQR(df_clean['Column Name'])"
   ]
  },
  {
   "cell_type": "markdown",
   "id": "420b0cb1",
   "metadata": {},
   "source": [
    "### e. Check Data Types\n",
    "- Do any data types need to be changed after cleaning is complete?"
   ]
  },
  {
   "cell_type": "code",
   "execution_count": null,
   "id": "f69279e1",
   "metadata": {},
   "outputs": [],
   "source": [
    "df_clean.dtypes"
   ]
  },
  {
   "cell_type": "code",
   "execution_count": null,
   "id": "244aa8eb",
   "metadata": {},
   "outputs": [],
   "source": [
    "# Change to numeric\n",
    "df_clean[\"Column Name\"] = pd.to_numeric(df_clean['Column Name'])"
   ]
  },
  {
   "cell_type": "markdown",
   "id": "b377d130",
   "metadata": {},
   "source": [
    "### f. Data Structure\n",
    "- Add any necessary calculated or reformatted columns for visualization/analysis"
   ]
  },
  {
   "cell_type": "code",
   "execution_count": null,
   "id": "d72093cd",
   "metadata": {},
   "outputs": [],
   "source": []
  },
  {
   "cell_type": "markdown",
   "id": "048c74c2",
   "metadata": {},
   "source": [
    "### g. Data Enrichment\n",
    "- Do we need more data?"
   ]
  },
  {
   "cell_type": "code",
   "execution_count": null,
   "id": "db1e64b3",
   "metadata": {},
   "outputs": [],
   "source": []
  },
  {
   "cell_type": "markdown",
   "id": "9285ee31",
   "metadata": {},
   "source": [
    "# 3. Analyze/Visualize Data"
   ]
  },
  {
   "cell_type": "markdown",
   "id": "1e3ba9a8",
   "metadata": {},
   "source": [
    "## Export to .csv and complete in another program"
   ]
  },
  {
   "cell_type": "code",
   "execution_count": null,
   "id": "042e5826",
   "metadata": {},
   "outputs": [],
   "source": [
    "outgoing_df = df_clean.to_csv('FileName.csv', index = True)"
   ]
  },
  {
   "cell_type": "markdown",
   "id": "5dcb7dcd",
   "metadata": {},
   "source": [
    "## Complete here in the Juptyer notebook."
   ]
  },
  {
   "cell_type": "code",
   "execution_count": null,
   "id": "fa76eb3c",
   "metadata": {},
   "outputs": [],
   "source": [
    "import matplotlib as plt\n",
    "import seaborn as sns"
   ]
  },
  {
   "cell_type": "markdown",
   "id": "c1e716fe",
   "metadata": {},
   "source": [
    "### Histogram"
   ]
  },
  {
   "cell_type": "code",
   "execution_count": null,
   "id": "b1fd8a54",
   "metadata": {},
   "outputs": [],
   "source": [
    "plt.figure(figsize = (10, 5))\n",
    "sns.histplot(data=df_clean, x= '')\n",
    "plt.title('')\n",
    "plt.xlabel('Response')\n",
    "plt.show()"
   ]
  },
  {
   "cell_type": "markdown",
   "id": "4b1fb8f7",
   "metadata": {},
   "source": [
    "### Pi Chart"
   ]
  },
  {
   "cell_type": "code",
   "execution_count": null,
   "id": "9923192f",
   "metadata": {},
   "outputs": [],
   "source": [
    "plt.figure(figsize = (5, 5))\n",
    "\n",
    "data = df_clean['Column Name']\n",
    "\n",
    "data_labels = data.unique().tolist()\n",
    "data_percents = data.value_counts(normalize= True)\n",
    "\n",
    "palette_color = sns.color_palette('pastel')\n",
    "\n",
    "plt.pie(data_percents, labels= data_labels,\n",
    "        autopct='%1.1f%%', pctdistance=0.85, colors= palette_color)\n",
    "\n",
    "plt.title('')\n",
    "\n",
    "plt.show()"
   ]
  },
  {
   "cell_type": "markdown",
   "id": "f7414d03",
   "metadata": {},
   "source": [
    "### Line Graph"
   ]
  },
  {
   "cell_type": "code",
   "execution_count": null,
   "id": "c3071fda",
   "metadata": {},
   "outputs": [],
   "source": [
    "sns.lineplot(\n",
    "\tx= time, y= total_units)"
   ]
  },
  {
   "cell_type": "markdown",
   "id": "64ccae2f",
   "metadata": {},
   "source": [
    "### Scatterplot"
   ]
  },
  {
   "cell_type": "code",
   "execution_count": null,
   "id": "fc066b78",
   "metadata": {},
   "outputs": [],
   "source": [
    "sns.relplot(\n",
    "\tx= temps, y= sales)"
   ]
  },
  {
   "cell_type": "markdown",
   "id": "dea7cbef",
   "metadata": {},
   "source": [
    "### Multiline Plot"
   ]
  },
  {
   "cell_type": "code",
   "execution_count": null,
   "id": "7ed15dc5",
   "metadata": {},
   "outputs": [],
   "source": [
    "by_flavor= sales_flavor[[\"Month\", 'Vanilla', 'Chocolate', 'Strawberry', 'Neapolitan', 'Mango', 'Lime']]\n",
    "\n",
    "sns.lineplot(data= pd.melt(by_flavor, [\"Month\"]), y= 'value', x= 'Month', hue='variable')\n",
    "\n",
    "plt.title('Total Units Sold by Month')\n",
    "plt.xlabel('Month')\n",
    "plt.xticks (time)\n",
    "plt.ylabel('Total Units Sold (quantity)')\n",
    "plt.legend(sales_flavor)\n",
    "plt.show()"
   ]
  }
 ],
 "metadata": {
  "kernelspec": {
   "display_name": "Python 3 (ipykernel)",
   "language": "python",
   "name": "python3"
  },
  "language_info": {
   "codemirror_mode": {
    "name": "ipython",
    "version": 3
   },
   "file_extension": ".py",
   "mimetype": "text/x-python",
   "name": "python",
   "nbconvert_exporter": "python",
   "pygments_lexer": "ipython3",
   "version": "3.11.6"
  }
 },
 "nbformat": 4,
 "nbformat_minor": 5
}
